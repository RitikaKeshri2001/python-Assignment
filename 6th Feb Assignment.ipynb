{
 "cells": [
  {
   "cell_type": "markdown",
   "id": "b62252ba-db17-4fa6-a74c-7e29e2ed94bd",
   "metadata": {},
   "source": [
    "Q1. Create a function which will take a list as an argument and return the product of all the numbers\n",
    "after creating a flat list.\n",
    "\n",
    "Use the below-given list as an argument for your function.\n",
    "list1 = [1,2,3,4, [44,55,66, True], False, (34,56,78,89,34), {1,2,3,3,2,1}, {1:34, \"key2\": [55, 67, 78, 89], 4:     (45,22, 61, 34)}, [56, 'data science'], 'Machine Learning']"
   ]
  },
  {
   "cell_type": "code",
   "execution_count": 32,
   "id": "02c3e8c1-0b81-460e-a27b-6a61058980ce",
   "metadata": {},
   "outputs": [
    {
     "name": "stdout",
     "output_type": "stream",
     "text": [
      "2315262738624675840\n"
     ]
    }
   ],
   "source": [
    "l =  [1,2,3,4, [44,55,66, True], False, (34,56,78,89,34), {1,2,3,3,2,1}, {1:34, \"key2\": [55, 67, 78, 89], 4: (45,22, 61, 34)}, [56, 'data science'], 'Machine Learning']\n",
    "def flat(l):\n",
    "    product = 1\n",
    "    flatList = []\n",
    "    for i in l:\n",
    "        if type(i) is list:\n",
    "            for item in i:\n",
    "                flatList.append(item)\n",
    "        elif type(i) is tuple:\n",
    "            for item in i:\n",
    "                flatList.append(item)\n",
    "        elif type(i) is dict:\n",
    "            for item in i:\n",
    "                flatList.append(item)\n",
    "        elif type(i) is set:\n",
    "            for item in i:\n",
    "                flatList.append(item)\n",
    "        else :\n",
    "            flatList.append(i)\n",
    "            \n",
    "    for ele in flatList:\n",
    "        if type(ele) is int:\n",
    "            product = product * ele\n",
    "            \n",
    "    return product\n",
    "\n",
    "print(flat(l))"
   ]
  },
  {
   "cell_type": "markdown",
   "id": "29a052a0-f91e-4f6f-bba8-b220ec0441f6",
   "metadata": {},
   "source": [
    "Q2. Write a python program for encrypting a message sent to you by your friend. The logic of encryption\n",
    "should be such that, for a the output should be z. For b, the output should be y. For c, the output should\n",
    "be x respectively. Also, the whitespace should be replaced with a dollar sign. Keep the punctuation\n",
    "marks unchanged.\n",
    "\n",
    "Input Sentence: I want to become a Data Scientist."
   ]
  },
  {
   "cell_type": "code",
   "execution_count": 19,
   "id": "431e8dfa-cbb2-4da5-bdbd-b3e3f61e6a6f",
   "metadata": {},
   "outputs": [
    {
     "name": "stdout",
     "output_type": "stream",
     "text": [
      "i$wznt$to$yexome$z$dztz$sxientist.\n"
     ]
    }
   ],
   "source": [
    "s = \"I want to become a Data Scientist.\"\n",
    "st = \"\"\n",
    "for i in s.lower():\n",
    "    if i == 'a':\n",
    "        st += 'z'\n",
    "    elif i == 'b':\n",
    "        st += 'y'\n",
    "    elif i == 'c':\n",
    "        st += 'x'\n",
    "    elif i == ' ':\n",
    "        st += '$'\n",
    "    else :\n",
    "        st += i\n",
    "print(st)"
   ]
  },
  {
   "cell_type": "code",
   "execution_count": null,
   "id": "c3a67b73-63a9-4d4b-83b8-180d21ac4242",
   "metadata": {},
   "outputs": [],
   "source": []
  }
 ],
 "metadata": {
  "kernelspec": {
   "display_name": "Python 3 (ipykernel)",
   "language": "python",
   "name": "python3"
  },
  "language_info": {
   "codemirror_mode": {
    "name": "ipython",
    "version": 3
   },
   "file_extension": ".py",
   "mimetype": "text/x-python",
   "name": "python",
   "nbconvert_exporter": "python",
   "pygments_lexer": "ipython3",
   "version": "3.10.8"
  }
 },
 "nbformat": 4,
 "nbformat_minor": 5
}
