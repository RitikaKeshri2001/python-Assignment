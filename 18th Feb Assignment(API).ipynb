{
 "cells": [
  {
   "cell_type": "markdown",
   "id": "ea774b4e-3cc4-46d8-a3b8-38cdb971c854",
   "metadata": {},
   "source": [
    "Q1. What is an API? Give an example, where an API is used in real life.\n",
    "\n",
    "    API stands for \"Application Programming Interface\". API is a way for two or more\n",
    "    computer programs to communicate with each other. It is a type of software interface,\n",
    "    offering a service to other software. API is a set of definitions and protocols for\n",
    "    building and integrating application software. API let our product or service communicate\n",
    "    with other products and services without having to know how they're implemented.API operates\n",
    "    between internal and external software opertions, allowing for a fluid interchange of data\n",
    "    that frequently passes undetected by the end-user. Simply said, an API acts as a virtual\n",
    "    middleman, transferring data from one interface to other.\n",
    "    \n",
    "    Real life Example:\n",
    "        Log in with Facebook/Twitter/Google/Github capability seen on many websites. When the\n",
    "        program loads, it checks the API to see whether the user is already logged in to \n",
    "        whichever social networking platform. If not, when the user hits the \"Log-in Using\n",
    "        XYZ\" button, a pop-up appears asking them to confirm they really want to log in with \n",
    "        that social network profile. When the user confirms, the API sends identity information\n",
    "        to the application, letting it know who is logging in.\n",
    "    "
   ]
  },
  {
   "cell_type": "markdown",
   "id": "ef17d848-82f4-4c3d-8617-0899254e3d22",
   "metadata": {},
   "source": [
    "Q2. Give advantages and disadvantages of using API.\n",
    "\n",
    "    Advantages of using API :-\n",
    "      1.API supports traditional CRUD (Create Read Update Delete) actions as it works\n",
    "        with HTTP verbs GET, PUT, POST and DELETE.\n",
    "      2.API helps us to expose service data to the browser.\n",
    "      3.It is based on HTTP, which is easy to define, expose in RESTful way.\n",
    "        \n",
    "    Disadvantage of using API :-\n",
    "        1. Creating API is very time-consuming process.\n",
    "        2. A fixed scale is necessary.\n",
    "        3. Imprecise boundary delineation.\n",
    "        4. Maintainance cost is very high.\n",
    "        5. It can crash when testing API."
   ]
  },
  {
   "cell_type": "markdown",
   "id": "40fc1990-7bf5-483b-ab88-4365a1e383e0",
   "metadata": {},
   "source": [
    "Q3. What is a Web API? Differentiate between API and Web API.\n",
    "\n",
    "    Web API as name suggests, it can be accessed over the web using HTTP protocol. It is\n",
    "    a framework that helps us to create and develop HTTP based RESTful services. The web \n",
    "    API can be developed by using different technologies such as java, ASP.NET,etc. \n",
    "    Web API is used in either web server or web browser.It is limited to web application's\n",
    "    client side and also it doesnot include web server or web browser details. Web API is\n",
    "    the enhanced form of web application.\n",
    "    \n",
    "    Difference between API and Web API are:\n",
    "    1. API can be build with the use of TCP/IP , HTTP protocol,\n",
    "        whereas Web API can build with the use of HTTP protocol.\n",
    "        \n",
    "    2. API is a set of rules through which system communicate with each other,\n",
    "        where Web API is subset/category of API.\n",
    "    "
   ]
  },
  {
   "cell_type": "markdown",
   "id": "6ee84b9d-e2bd-407e-930a-125375570306",
   "metadata": {},
   "source": [
    "Q4. Explain REST and SOAP Architecture. Mention shortcomings of SOAP.\n",
    "\n",
    "    REST stands for \"Representational State Transfer\". REST is an architectural style that\n",
    "    doesnot follow any strict standard but follows six constraints. Those constraints are:\n",
    "    Uniform Interface, Client-server, Stateless, Cacheable, Layered system, Code on demand.\n",
    "    For exchanging information is not restricted to XML and its the choice of implementater\n",
    "    which media type to use like XML, JSON, plain-text. REST is easy to implement and requires \n",
    "    less bandwidth.REST has SSL and HTTP. REST is less secure than SOAP.\n",
    "    \n",
    "    SOAP stands for \"Simple Object Access Protocol\". SOAP is a protocol, it follows a strict\n",
    "    standard to allow communication between the client and server. It uses only XML for\n",
    "    exchanging information in its message format. It is difficult to implement and requires\n",
    "    more bandwidth. It has ACID compliance transaction. It has SSL and WS-security.\n",
    "    SOAP is more secure than REST.\n",
    "    \n",
    "    Shortcomings of SOAP are :-\n",
    "    1. Resource-consuming: Due to the larger size of an XML file and a playload created by the\n",
    "        massive structure of a message, a SOAP API requires large bandwidth. \n",
    "    2. Hard learning curve: Being protocol-based, building SOAP API servers requires knowledge \n",
    "        and understanding of all protocols we may use with it. Developers dealing with building \n",
    "        these types of APIs should dive deep into all processes inside the protocol with its highly\n",
    "        restricted rules.\n",
    "    3. It is hard to implement and uses only XML for exchanging information.\n",
    "    4. Lacks flexibility: SOAP API serves as a strict contract between a client and a server. \n",
    "        Due to this, SOAP schema requires additional effort to add or remove the message properties\n",
    "        on both sides of the communication, the server and the client. It makes updating requests\n",
    "        and responses a tedious process and slows down adoption."
   ]
  },
  {
   "cell_type": "markdown",
   "id": "99c1436e-cc50-4c6e-be3a-2164e8024096",
   "metadata": {},
   "source": [
    "Q5. Differentiate between REST and SOAP.\n",
    "\n",
    "                SOAP                                     REST\n",
    "    SOAP is a protocol, it follows a strict     REST is an architectural style that\n",
    "    standard to allow communication between     doesnot follow any strict standard but\n",
    "    the client and the server.                  follows six constraints.\n",
    "    \n",
    "    SOAP uses only XML for exchanging           REST is not restricted to XML and its \n",
    "    information in its message format.          choice to implementer which Media-type to \n",
    "                                                use like XML, JSON, plain-text.\n",
    "                                                \n",
    "    SOAP cannot use REST protocol.              REST can use SOAP protocol.\n",
    "    \n",
    "    SOAP is difficult to implement and it       REST is easy to implement and requires \n",
    "    requires more bandwidth.                    less bandwidth.\n",
    "    \n",
    "    On the basis of security, SOAP has SSL      REST has SSL and HTTP. REST is less\n",
    "    (Secure Socket layer) and WS-security.      secure than SOAP."
   ]
  },
  {
   "cell_type": "code",
   "execution_count": null,
   "id": "f7f443a1-ab86-4a7f-9dc3-2ead3ddf0416",
   "metadata": {},
   "outputs": [],
   "source": []
  }
 ],
 "metadata": {
  "kernelspec": {
   "display_name": "Python 3 (ipykernel)",
   "language": "python",
   "name": "python3"
  },
  "language_info": {
   "codemirror_mode": {
    "name": "ipython",
    "version": 3
   },
   "file_extension": ".py",
   "mimetype": "text/x-python",
   "name": "python",
   "nbconvert_exporter": "python",
   "pygments_lexer": "ipython3",
   "version": "3.10.8"
  }
 },
 "nbformat": 4,
 "nbformat_minor": 5
}
