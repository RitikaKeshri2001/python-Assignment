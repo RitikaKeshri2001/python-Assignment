{
 "cells": [
  {
   "cell_type": "markdown",
   "id": "e4370ec3-dff9-47e1-9f97-12092a1af4c0",
   "metadata": {},
   "source": [
    "Q1. You are writing code for a company. The requirement of the company is that\n",
    "    you create a pythonfunction that will check whether the password entered by the\n",
    "    user is correct or not. The function shouldtake the password as input and return\n",
    "    the string “Valid Password” if the entered password follows thebelow-given \n",
    "    password guidelines else it should return “Invalid Password”.\n",
    "    \n",
    "    Note: 1. The Password should contain at least two uppercase letters and at least two lowercase letters.\n",
    "    2. The Password should contain at least a number and three special characters.\n",
    "    3. The length of the password should be 10 characters long."
   ]
  },
  {
   "cell_type": "code",
   "execution_count": 1,
   "id": "b16298ea-4504-4706-951c-42234b6b0a72",
   "metadata": {},
   "outputs": [
    {
     "name": "stdout",
     "output_type": "stream",
     "text": [
      "Valid Password\n"
     ]
    }
   ],
   "source": [
    "# password = input(\"Enter your password\")\n",
    "password = \"RitikA@#1%\"\n",
    "upper = 0\n",
    "lower = 0\n",
    "num = 0\n",
    "special = 0\n",
    "\n",
    "for i in password:\n",
    "    if i >= '0' and i <= '9' :\n",
    "        num += 1\n",
    "    elif i >= 'a' and i <= 'z' :\n",
    "        lower += 1\n",
    "    elif i >= 'A' and i <= 'Z' :\n",
    "        upper += 1\n",
    "    else :\n",
    "        special += 1\n",
    "if(upper >= 2 and lower >= 2 and num >=1 and special >= 3 and len(password) >= 10) :\n",
    "    print(\"Valid Password\")\n",
    "else :\n",
    "    print(\"Invalid Password\")"
   ]
  },
  {
   "cell_type": "markdown",
   "id": "3a96e2b4-36cc-4533-abfb-cf699d8e2d2e",
   "metadata": {},
   "source": [
    "Q2.\n",
    "\n",
    "Check if the string starts with a particular letter."
   ]
  },
  {
   "cell_type": "code",
   "execution_count": 2,
   "id": "63aec42a-b7e9-4c08-9538-f6f7cc17b8b3",
   "metadata": {},
   "outputs": [
    {
     "name": "stdout",
     "output_type": "stream",
     "text": [
      "Yes\n"
     ]
    }
   ],
   "source": [
    "# s = input(\"Enter string\")\n",
    "s = \"ritika\"\n",
    "letter = lambda s :print(\"Yes\") if s[0].lower() >= 'a' and s[0].lower() <= 'z' else print(\"No\")\n",
    "letter(s)"
   ]
  },
  {
   "cell_type": "code",
   "execution_count": 3,
   "id": "30e4d113-27d0-42b9-bf5a-45ee444db6c6",
   "metadata": {},
   "outputs": [
    {
     "name": "stdout",
     "output_type": "stream",
     "text": [
      "Yes\n"
     ]
    }
   ],
   "source": [
    "# Check if the string is numeric.\n",
    "\n",
    "# st = input(\"Enter string to check whether it is numeric or not:\")\n",
    "st = \"456\"\n",
    "numeric = lambda st: print(\"Yes\") if st.isnumeric() == True else print(\"No\")\n",
    "numeric(st)"
   ]
  },
  {
   "cell_type": "code",
   "execution_count": 4,
   "id": "3d7c88b3-e829-4f7d-b718-d13c2ba94d17",
   "metadata": {},
   "outputs": [
    {
     "name": "stdout",
     "output_type": "stream",
     "text": [
      "[('orange', 80), ('mango', 99), ('grapes', 1000)]\n"
     ]
    }
   ],
   "source": [
    "# Sort the list of tuples having fruit name and their quantity\n",
    "\n",
    "def sort_Tuple(tup):\n",
    " \n",
    "    tup.sort(key = lambda x: x[1])\n",
    "    return tup\n",
    "\n",
    "t = [(\"mango\", 99), (\"orange\", 80), (\"grapes\", 1000)]\n",
    "print(sort_Tuple(t))\n"
   ]
  },
  {
   "cell_type": "code",
   "execution_count": 5,
   "id": "a23ddb33-a8f7-4d07-a301-5443a64109e4",
   "metadata": {},
   "outputs": [
    {
     "data": {
      "text/plain": [
       "[1, 4, 9, 16, 25, 36, 49, 64, 81, 100]"
      ]
     },
     "execution_count": 5,
     "metadata": {},
     "output_type": "execute_result"
    }
   ],
   "source": [
    "# Find the squares of numbers from 1 to 10.\n",
    "\n",
    "list(i**2 for i in range(1, 11))"
   ]
  },
  {
   "cell_type": "code",
   "execution_count": 6,
   "id": "e3a7f300-df16-4ac2-88f1-a0eb8dba7e4f",
   "metadata": {},
   "outputs": [
    {
     "data": {
      "text/plain": [
       "[1.0,\n",
       " 1.2599210498948732,\n",
       " 1.4422495703074083,\n",
       " 1.5874010519681994,\n",
       " 1.7099759466766968,\n",
       " 1.8171205928321397,\n",
       " 1.912931182772389,\n",
       " 2.0,\n",
       " 2.080083823051904,\n",
       " 2.154434690031884]"
      ]
     },
     "execution_count": 6,
     "metadata": {},
     "output_type": "execute_result"
    }
   ],
   "source": [
    "# Find the cube root of numbers from 1 to 10.\n",
    "\n",
    "list(map(lambda x: x**(1/3), range(1, 11)))"
   ]
  },
  {
   "cell_type": "code",
   "execution_count": 7,
   "id": "d48495cc-0bc7-48e8-8ed4-e9704cf313b6",
   "metadata": {},
   "outputs": [
    {
     "name": "stdout",
     "output_type": "stream",
     "text": [
      "Even\n"
     ]
    }
   ],
   "source": [
    "# Check if a given number is even.\n",
    "\n",
    "# n = int(input(\"Enter the number to check whether it is even or not.\"))\n",
    "n = 4\n",
    "even = lambda n: print(\"Even\") if n%2 == 0 else print(\"Not Even\")\n",
    "even(n)"
   ]
  },
  {
   "cell_type": "code",
   "execution_count": 8,
   "id": "fcd2b4d8-cc08-41e1-9af1-fad08b314e99",
   "metadata": {},
   "outputs": [
    {
     "data": {
      "text/plain": [
       "[1, 3, 5, 7, 9]"
      ]
     },
     "execution_count": 8,
     "metadata": {},
     "output_type": "execute_result"
    }
   ],
   "source": [
    "# Filter odd numbers from the given list.[1,2,3,4,5,6,7,8,9,10]\n",
    "\n",
    "l = [1,2,3,4,5,6,7,8,9,10]\n",
    "list(filter(lambda x: x%2 != 0, l))"
   ]
  },
  {
   "cell_type": "code",
   "execution_count": 9,
   "id": "22c39106-f8c2-4cd5-9d14-2f26caa33803",
   "metadata": {},
   "outputs": [
    {
     "data": {
      "text/plain": [
       "[0, 1, 2, 3, 4, 5, 6]"
      ]
     },
     "execution_count": 9,
     "metadata": {},
     "output_type": "execute_result"
    }
   ],
   "source": [
    "#Sort a list of integers into positive and negative integers lists.[1,2,3,4,5,6,-1,-2,-3,-4,-5,0]\n",
    "\n",
    "l = [1,2,3,4,5,6,-1,-2,-3,-4,-5,0]\n",
    "l.sort()\n",
    "list(filter(lambda x: x>=0 , l))"
   ]
  },
  {
   "cell_type": "code",
   "execution_count": 10,
   "id": "60c3bb26-370e-4e80-a5bf-487db8f25a1e",
   "metadata": {},
   "outputs": [
    {
     "data": {
      "text/plain": [
       "[-5, -4, -3, -2, -1]"
      ]
     },
     "execution_count": 10,
     "metadata": {},
     "output_type": "execute_result"
    }
   ],
   "source": [
    "list(filter(lambda y: y<0 , l))"
   ]
  },
  {
   "cell_type": "code",
   "execution_count": null,
   "id": "4870f9be-8a83-4722-a2f0-0cb3ed5d2b61",
   "metadata": {},
   "outputs": [],
   "source": []
  }
 ],
 "metadata": {
  "kernelspec": {
   "display_name": "Python 3 (ipykernel)",
   "language": "python",
   "name": "python3"
  },
  "language_info": {
   "codemirror_mode": {
    "name": "ipython",
    "version": 3
   },
   "file_extension": ".py",
   "mimetype": "text/x-python",
   "name": "python",
   "nbconvert_exporter": "python",
   "pygments_lexer": "ipython3",
   "version": "3.10.8"
  }
 },
 "nbformat": 4,
 "nbformat_minor": 5
}
