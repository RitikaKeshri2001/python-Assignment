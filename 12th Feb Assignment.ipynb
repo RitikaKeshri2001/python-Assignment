{
 "cells": [
  {
   "cell_type": "markdown",
   "id": "b840ad4e-b47d-430d-8a3e-ca9202ba994b",
   "metadata": {},
   "source": [
    "Q1. What is an Exception in python? Write difference between Exceptions and Syntax error.\n",
    "\n",
    "    Exception is an event or error , which occurs during the execution of a program that disrupts \n",
    "    the normal flow of the programm's instructions. In general, when a Python script \n",
    "    encounters a situation that it cannot cope with, it raises an exception. An exception\n",
    "    is a Python object that represents an error. \n",
    "    When a Python script raises an exception, it must either handle the exception immediately\n",
    "    otherwise it terminates and quit.\n",
    "    \n",
    "    Difference between Exception and Syntax error:\n",
    "    \n",
    "    Syntax Error: This error is caused by wrong syntax in the code. Syntax errors are usually\n",
    "        detected by compiler or interpreter when the program is being compiled or executed. It\n",
    "        lets the termination of the program.\n",
    "        \n",
    "    Exception: This error is raised when the programm is syntatically correct, but the code \n",
    "        resulted in an error. This error doen't stop the execution of program, however it changes \n",
    "        the normal flow of the program. Caused by runtime errors, such as dividing by 0.\n",
    "        "
   ]
  },
  {
   "cell_type": "markdown",
   "id": "8e71cdd1-1d75-4a61-a0f6-31518d1fceb0",
   "metadata": {},
   "source": [
    "Q2. What happens when an exception is not handled? Explain with an example.\n",
    "\n",
    "    The program terminates or stop if exception occurs and not handled."
   ]
  },
  {
   "cell_type": "code",
   "execution_count": 1,
   "id": "3f92574d-eb32-48e9-895d-095968001bcb",
   "metadata": {},
   "outputs": [
    {
     "ename": "ZeroDivisionError",
     "evalue": "division by zero",
     "output_type": "error",
     "traceback": [
      "\u001b[0;31m---------------------------------------------------------------------------\u001b[0m",
      "\u001b[0;31mZeroDivisionError\u001b[0m                         Traceback (most recent call last)",
      "Cell \u001b[0;32mIn[1], line 3\u001b[0m\n\u001b[1;32m      1\u001b[0m \u001b[38;5;66;03m# Example\u001b[39;00m\n\u001b[1;32m      2\u001b[0m marks \u001b[38;5;241m=\u001b[39m \u001b[38;5;241m90\u001b[39m\n\u001b[0;32m----> 3\u001b[0m a \u001b[38;5;241m=\u001b[39m \u001b[43mmarks\u001b[49m\u001b[38;5;241;43m/\u001b[39;49m\u001b[38;5;241;43m0\u001b[39;49m\n\u001b[1;32m      4\u001b[0m \u001b[38;5;28mprint\u001b[39m(a)\n",
      "\u001b[0;31mZeroDivisionError\u001b[0m: division by zero"
     ]
    }
   ],
   "source": [
    "# Example\n",
    "marks = 90\n",
    "a = marks/0\n",
    "print(a)"
   ]
  },
  {
   "cell_type": "code",
   "execution_count": 2,
   "id": "a405f028-fe90-468e-a831-c258926e7bb5",
   "metadata": {},
   "outputs": [
    {
     "name": "stdout",
     "output_type": "stream",
     "text": [
      "division by zero  error occured\n"
     ]
    }
   ],
   "source": [
    "# It can be handled\n",
    "marks = 90\n",
    "try :\n",
    "    a = marks/0\n",
    "    print(a)\n",
    "except Exception as e:\n",
    "    print(e, \" error occured\")"
   ]
  },
  {
   "cell_type": "markdown",
   "id": "32fba7b9-e47b-4b12-a8ad-52fa8bcc8604",
   "metadata": {},
   "source": [
    "Q3. Which Python statements are used to catch and handle exceptions? Explain with an example.\n",
    "\n",
    "    Python statements that are used to catch and handle exception is Try and except statement.\n",
    "    \n",
    "    Try and except statement: are used to catch and handle exceptions. Statements that can\n",
    "        raise exceptions are kept inside the try block and the statements that handle the \n",
    "        exception are written inside except block."
   ]
  },
  {
   "cell_type": "code",
   "execution_count": 3,
   "id": "aff7af4e-a68a-402b-abca-7c4276527fcc",
   "metadata": {},
   "outputs": [
    {
     "name": "stdout",
     "output_type": "stream",
     "text": [
      "division by zero  error occured\n"
     ]
    }
   ],
   "source": [
    "# Try and except statement Example\n",
    "\n",
    "marks = 90\n",
    "try :\n",
    "    a = marks/0\n",
    "    print(a)\n",
    "except Exception as e:\n",
    "    print(e, \" error occured\")"
   ]
  },
  {
   "cell_type": "markdown",
   "id": "190ca2d7-5d63-409e-bc35-7dd53cc4ce6a",
   "metadata": {},
   "source": [
    "Q4. Explain with an example:\n",
    "     a.try and else\n",
    "     b.finally \n",
    "     c.raise"
   ]
  },
  {
   "cell_type": "code",
   "execution_count": 4,
   "id": "0cb69cf9-986d-4ffe-8f16-8e766164cf6b",
   "metadata": {},
   "outputs": [
    {
     "name": "stdout",
     "output_type": "stream",
     "text": [
      "Error !  [Errno 2] No such file or directory: 'test1.txt'\n"
     ]
    }
   ],
   "source": [
    "# Try and else Statement:\n",
    "# Else statement execute when try block execute without error\n",
    "# Here test1 file not open with 'r' therefore error occured and else block will not execute.\n",
    "try :\n",
    "    f = open(\"test1.txt\", 'r')\n",
    "    f.write(\"write into my file\")\n",
    "except Exception as e :\n",
    "    print(\"Error ! \", e)\n",
    "else :\n",
    "    f.close()\n",
    "    print(\"This will be executed once your try will execute without error\")"
   ]
  },
  {
   "cell_type": "code",
   "execution_count": 5,
   "id": "8a84245e-0cc4-4086-b19b-0f9e64643f06",
   "metadata": {},
   "outputs": [
    {
     "name": "stdout",
     "output_type": "stream",
     "text": [
      "It will execute even try block will execute with error\n"
     ]
    },
    {
     "ename": "ZeroDivisionError",
     "evalue": "division by zero",
     "output_type": "error",
     "traceback": [
      "\u001b[0;31m---------------------------------------------------------------------------\u001b[0m",
      "\u001b[0;31mZeroDivisionError\u001b[0m                         Traceback (most recent call last)",
      "Cell \u001b[0;32mIn[5], line 4\u001b[0m\n\u001b[1;32m      1\u001b[0m \u001b[38;5;66;03m# finally execute in any situation\u001b[39;00m\n\u001b[1;32m      2\u001b[0m \u001b[38;5;66;03m# Always executed after try and except blocks.\u001b[39;00m\n\u001b[1;32m      3\u001b[0m \u001b[38;5;28;01mtry\u001b[39;00m:\n\u001b[0;32m----> 4\u001b[0m     a \u001b[38;5;241m=\u001b[39m \u001b[38;5;241;43m5\u001b[39;49m\u001b[38;5;241;43m/\u001b[39;49m\u001b[38;5;241;43m0\u001b[39;49m\n\u001b[1;32m      5\u001b[0m     \u001b[38;5;28mprint\u001b[39m(a)\n\u001b[1;32m      6\u001b[0m \u001b[38;5;28;01mfinally\u001b[39;00m:\n",
      "\u001b[0;31mZeroDivisionError\u001b[0m: division by zero"
     ]
    }
   ],
   "source": [
    "# finally execute in any situation\n",
    "# Always executed after try and except blocks.\n",
    "try:\n",
    "    a = 5/0\n",
    "    print(a)\n",
    "finally:\n",
    "    print(\"It will execute even try block will execute with error\")"
   ]
  },
  {
   "cell_type": "code",
   "execution_count": 6,
   "id": "70da4643-fa4e-44e2-b701-3f15117e7f87",
   "metadata": {},
   "outputs": [
    {
     "name": "stdout",
     "output_type": "stream",
     "text": [
      "An exception\n"
     ]
    },
    {
     "ename": "NameError",
     "evalue": "Hi there",
     "output_type": "error",
     "traceback": [
      "\u001b[0;31m---------------------------------------------------------------------------\u001b[0m",
      "\u001b[0;31mNameError\u001b[0m                                 Traceback (most recent call last)",
      "Cell \u001b[0;32mIn[6], line 5\u001b[0m\n\u001b[1;32m      1\u001b[0m \u001b[38;5;66;03m# Raise : Allows the programmer to force a specific exception to occur. \u001b[39;00m\n\u001b[1;32m      2\u001b[0m \u001b[38;5;66;03m# This must be either an exception instance or an exception class\u001b[39;00m\n\u001b[1;32m      4\u001b[0m \u001b[38;5;28;01mtry\u001b[39;00m :\n\u001b[0;32m----> 5\u001b[0m     \u001b[38;5;28;01mraise\u001b[39;00m \u001b[38;5;167;01mNameError\u001b[39;00m(\u001b[38;5;124m\"\u001b[39m\u001b[38;5;124mHi there\u001b[39m\u001b[38;5;124m\"\u001b[39m)\n\u001b[1;32m      6\u001b[0m \u001b[38;5;28;01mexcept\u001b[39;00m \u001b[38;5;167;01mNameError\u001b[39;00m:\n\u001b[1;32m      7\u001b[0m     \u001b[38;5;28mprint\u001b[39m(\u001b[38;5;124m\"\u001b[39m\u001b[38;5;124mAn exception\u001b[39m\u001b[38;5;124m\"\u001b[39m)\n",
      "\u001b[0;31mNameError\u001b[0m: Hi there"
     ]
    }
   ],
   "source": [
    "# Raise : Allows the programmer to force a specific exception to occur. \n",
    "# This must be either an exception instance or an exception class\n",
    "\n",
    "try :\n",
    "    raise NameError(\"Hi there\")\n",
    "except NameError:\n",
    "    print(\"An exception\")\n",
    "    raise"
   ]
  },
  {
   "cell_type": "markdown",
   "id": "0edee3a3-1d55-4a72-876e-2ab82bbd9192",
   "metadata": {},
   "source": [
    "Q5. What are Custom Exceptions in python? Why do we need custom exceptions? Explain with an example.\n",
    "\n",
    "    Sometimes based on project requirement, a programmer needs to create his own exceptions and\n",
    "    raise explicitly for corresponding scenarios. Such type of exceptions are called Customized \n",
    "    Exceptions or Programmatic Exceptions. We can raise custom exception by using the keyword 'raise'.\n",
    "    \n",
    "    To raise exception to fulfil project requirement we need to create custom exception.\n",
    "    \n",
    "    Example :\n",
    "        Suppose we want to take input a number from user between 0 to 100.\n",
    "        We have to throw error(or message) if user input number less than 0 or greater than 100.\n",
    "        For this we need to create a class (custom Exception class) which inherit from Excepton class.\n",
    "        And we create a function in which we pass number input by user to display the \n",
    "            message according to the number input by the user."
   ]
  },
  {
   "cell_type": "markdown",
   "id": "f486cd6f-2aac-44fd-92b1-9d7c0e5e36b7",
   "metadata": {},
   "source": [
    "Q6. Create a custom exception class. Use this class to handle an exception."
   ]
  },
  {
   "cell_type": "code",
   "execution_count": 7,
   "id": "9e9a3d65-999d-4023-b257-251176b4b794",
   "metadata": {},
   "outputs": [
    {
     "name": "stdout",
     "output_type": "stream",
     "text": [
      "Error ! Please enter a number between 0 to 100. \n",
      "Number is greater than 100.\n"
     ]
    }
   ],
   "source": [
    "class ValidNum(Exception): #create a class inherit with Exception class.\n",
    "    def __init__(self, msg):\n",
    "        self.msg = msg #takes msg which appears\n",
    "        \n",
    "def validNum(num): # create a function in which we pass number to display the type of msg we want.\n",
    "    if num < 0:\n",
    "        raise ValidNum(\"Error ! Please enter a number between 0 to 100. \\nNumber is smaller than 0.\")\n",
    "    elif num > 100:\n",
    "        raise ValidNum(\"Error ! Please enter a number between 0 to 100. \\nNumber is greater than 100.\")\n",
    "    else :\n",
    "        raise ValidNum(\"Number is vaild\")\n",
    "        \n",
    "try:\n",
    "    num = 214\n",
    "    validNum(num)\n",
    "except ValidNum as e:\n",
    "    print(e)"
   ]
  },
  {
   "cell_type": "code",
   "execution_count": null,
   "id": "96ccb1b3-9b69-4e57-9d14-b8af522c29ea",
   "metadata": {},
   "outputs": [],
   "source": []
  }
 ],
 "metadata": {
  "kernelspec": {
   "display_name": "Python 3 (ipykernel)",
   "language": "python",
   "name": "python3"
  },
  "language_info": {
   "codemirror_mode": {
    "name": "ipython",
    "version": 3
   },
   "file_extension": ".py",
   "mimetype": "text/x-python",
   "name": "python",
   "nbconvert_exporter": "python",
   "pygments_lexer": "ipython3",
   "version": "3.10.8"
  }
 },
 "nbformat": 4,
 "nbformat_minor": 5
}
