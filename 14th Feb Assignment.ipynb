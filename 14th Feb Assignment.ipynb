{
 "cells": [
  {
   "cell_type": "markdown",
   "id": "077b475f-1e6b-4f1a-a2fa-55fef8014989",
   "metadata": {},
   "source": [
    "Q1. What is multithreading in python? Why is it used? Name the module used to handle threads in python.\n",
    "\n",
    "    Multithreading is defined as the ability of processor to execute multiple threads concurrently.\n",
    "    \n",
    "    Multithreading is the technique in python programming to run multiple threads concurrently by\n",
    "    rapidly switiching between threads with a (Single core cpu) CPU help (called context \n",
    "    switching).Besides it allows sharing of its data space with the main threads inside\n",
    "    a process that share informationa and communications with other threads easier than\n",
    "    individual proceses. \n",
    "    \n",
    "    Multiplethreading is used in python as it aims to perform multiple tasks simultaneously, \n",
    "    which increases peoformance, speed and improves the rendering of the application.\n",
    "    \n",
    "    Threading module is used to handle threads in python.\n",
    "    The threading module is a high-level implementation of multithreading used to deploy an \n",
    "    application in python. To use multithreading we need to import the threading module in python program."
   ]
  },
  {
   "cell_type": "markdown",
   "id": "c9b8a949-13dd-424c-a0f5-74f4d026766f",
   "metadata": {},
   "source": [
    "Q2. Why threading module used? Write the use of the following functions\n",
    " a.activeCount()\n",
    " b.currentThread()\n",
    " c.enumerate()\n",
    " \n",
    "    Threading module provides a very simple and intuitive API for spawning multiple threads \n",
    "    in a program. It comprises all basic needed to better understand the process of threading.\n",
    "    With this module, we can easily encapsulate threads and provide a clean interface to work \n",
    "    with them.\n",
    "    \n",
    "    activeCount(): Used to return number of Thread objects that are active at any instant.\n",
    "    \n",
    "    currentThread(): Used to return current Thread object, which corresponds to the caller's \n",
    "        thread of control.\n",
    "        \n",
    "    enumerate(): Used to return a list of all Thread objects currently active.It excludes \n",
    "        terminated threads.\n",
    "    "
   ]
  },
  {
   "cell_type": "markdown",
   "id": "7a620901-646d-40c8-91e4-b99c6dfff423",
   "metadata": {},
   "source": [
    "Q3. Explain the following functions\n",
    "    a.run()\n",
    "    b.start()\n",
    "    c.join()\n",
    "    d.isAlive()\n",
    " \n",
    "    run(): Used to represent thread's activity. It calls the method expressed as target argument\n",
    "        in the thread object along with the positional and keyword arguments taken from the args\n",
    "        and kwargs arguments respectively. This method can also be overridden in the subclass.\n",
    "        \n",
    "    start(): Used to start thread's acitivity. This method calls the run() method internally \n",
    "        which then executes the target method. It call once for one thread. If it is called more\n",
    "        than once, it raises runtime error.\n",
    "        \n",
    "    join(): Delays a program's flow of execution until the target thread has been completed read.\n",
    "    \n",
    "    isAlive(): This method returns True if the thread is still running and False, otherwise."
   ]
  },
  {
   "cell_type": "markdown",
   "id": "7f1b0185-9044-44ce-ba5c-d3676e405e7e",
   "metadata": {},
   "source": [
    "Q4. Write a python program to create two threads. Thread one must print the list of squares and thread\n",
    "two must print the list of cubes."
   ]
  },
  {
   "cell_type": "code",
   "execution_count": 1,
   "id": "e976b274-b16c-4994-a046-03823cb1c13c",
   "metadata": {},
   "outputs": [
    {
     "name": "stdout",
     "output_type": "stream",
     "text": [
      "1\n",
      "4\n",
      "9\n",
      "16\n",
      "25\n"
     ]
    }
   ],
   "source": [
    "import threading\n",
    "def sq(n):\n",
    "    print(n**2)\n",
    "\n",
    "def cube(n):\n",
    "    print(n**3)\n",
    "\n",
    "thread1 = [threading.Thread(target=sq, args=(i,)) for i in range(1, 6)]\n",
    "thread2 = [threading.Thread(target=cube, args=(i,)) for i in range(1, 6)]\n",
    "\n",
    "for t in thread1:\n",
    "    t.start()"
   ]
  },
  {
   "cell_type": "code",
   "execution_count": 2,
   "id": "de4f1e76-41dc-4563-a19b-ea5a39b5df14",
   "metadata": {},
   "outputs": [
    {
     "name": "stdout",
     "output_type": "stream",
     "text": [
      "1\n",
      "8\n",
      "27\n",
      "64\n",
      "125\n"
     ]
    }
   ],
   "source": [
    "for t in thread2:\n",
    "    t.start()"
   ]
  },
  {
   "cell_type": "markdown",
   "id": "92b52abb-00c4-451b-9cb5-92b89ca0db29",
   "metadata": {},
   "source": [
    "Q5. State advantages and disadvantages of multithreading.\n",
    "\n",
    "    Advantage of multithreading:\n",
    "    1.Enhanced performance by decrease development time.\n",
    "    2.Simplified and streamelined program coding.\n",
    "    3.Better use of CPU resource.\n",
    "    4.Simultaneous and parallelized occurence of tasks.\n",
    "    \n",
    "    Disadvantage of multithreading:\n",
    "    1.Complex debugging and testing processes.\n",
    "    2.Overhead switiching of context.\n",
    "    3.Increase potential for deadlock occurance.\n",
    "    4.Unpredictable results."
   ]
  },
  {
   "cell_type": "markdown",
   "id": "18429288-7f80-4573-b4df-747ab9922337",
   "metadata": {},
   "source": [
    "Q6. Explain deadlocks and race conditions.\n",
    "\n",
    "    Deadlock is a concurrency failure mode where a thread or threads wait for a condition\n",
    "    that never occur.Deadlock refers to a specific situation at a time planning, when no \n",
    "    progress can be made and the system is locked in it current situation.In many cases\n",
    "    the condition is caused by a loack of or mistreatement, communication between different \n",
    "    locking devices.\n",
    "    \n",
    "    A Race condition may be defined as the occuring of the condition when two or more \n",
    "    threads can access shared data and then try to change its value at the same time."
   ]
  },
  {
   "cell_type": "code",
   "execution_count": null,
   "id": "e1af1f48-63d6-4996-8c98-bd5a6501b790",
   "metadata": {},
   "outputs": [],
   "source": []
  }
 ],
 "metadata": {
  "kernelspec": {
   "display_name": "Python 3 (ipykernel)",
   "language": "python",
   "name": "python3"
  },
  "language_info": {
   "codemirror_mode": {
    "name": "ipython",
    "version": 3
   },
   "file_extension": ".py",
   "mimetype": "text/x-python",
   "name": "python",
   "nbconvert_exporter": "python",
   "pygments_lexer": "ipython3",
   "version": "3.10.8"
  }
 },
 "nbformat": 4,
 "nbformat_minor": 5
}
