{
 "cells": [
  {
   "cell_type": "markdown",
   "id": "672fd9b3-455e-4c19-89fc-3e045e9c396d",
   "metadata": {},
   "source": [
    "Q1. What is a database? Differentiate between SQL and NoSQL databases.\n",
    "\n",
    "    A Database is an organised collection of structured information, or data, typically\n",
    "    stored electronically in a computer system. It can be managed through a Database\n",
    "    Management System(DBMS), a software used to manage data. Database refers to related\n",
    "    data in a structured form.\n",
    "    In database, data is organized into tables consisting of rows and columns and it is\n",
    "    indexed so data can be updated, expanded, and deleted easily. \n",
    "    \n",
    "            SQL                                              NoSQL\n",
    "    Relational Database Management System      Non-relationsl or distributed database \n",
    "                                               system.\n",
    "    \n",
    "    These database have fixed or static or     The have dynamic schema.\n",
    "    predefined schema.\n",
    "    \n",
    "    These database are not suited for          These database are best suited for hirarchical\n",
    "    hirarchical data storage.                  data storage.\n",
    "    \n",
    "    Best suited for complex queries.           Not so good for complex queries.\n",
    "    \n",
    "    Vertically scalable.                       Horizontally scalable.\n",
    "    \n",
    "    Follow ACID (Atomicity, Consistency,       Follow CAP (Consistency, Availability, partition\n",
    "    Isolation and Durability) property.        tolerence) property.\n",
    "    \n",
    "    Ex- MySQL, MS-SQL,                         Ex- MongoDB, HBase, "
   ]
  },
  {
   "cell_type": "markdown",
   "id": "fa42985a-b6b4-4dca-9b2c-6a40347a1395",
   "metadata": {},
   "source": [
    "Q2. What is DDL? Explain why CREATE, DROP, ALTER, and TRUNCATE are used with an example.\n",
    "\n",
    "    DDL (Data Defination Language) is a computer language used to create and modify\n",
    "    the structure of database objects in a database.These databse objects include \n",
    "    views, schemas, tables, indexes, etc.\n",
    "    DDL also known as Data Description Language in some contexts, as it describes the\n",
    "    fields and records in a database table.\n",
    "    \n",
    "    CREATE :- CREATE command is used to create a new database in DBMS, crete a new table\n",
    "        in database.\n",
    "        Example:\n",
    "            CREATE TABLE Employee(Employee Id INT, First name VARCHAR(50), Last Name(50));\n",
    "            \n",
    "    ALTER :- An ALTER command modifies an existing database table. This command can add up\n",
    "        additional column, drop existing columns and even change the data type of columns\n",
    "        involved in a database table.\n",
    "        Example:\n",
    "            ALTER TABLE Employee ADD PRIMARY KEY(employee_pk);\n",
    "            \n",
    "            In this example we added a unique primary key to the table to add a constraint\n",
    "            and enforce a unique value. The constraint \"employee_pk\" is on the Employee table.\n",
    "            \n",
    "    DROP :- A DROP command is used to delete objects such as a table, index, or view. A\n",
    "        DROP statement cannot be rolled back, so once an object is destroyed, there's no\n",
    "        way to recover it.\n",
    "        Example:\n",
    "            DROP TABLE Employee;\n",
    "            \n",
    "    TRUNCATE :- Similar to DROP, the TRUNCATE statement is used to quickly remove all records\n",
    "        from a table. Unlike DROP that completely destroys a table, TRUNCATE preserves all \n",
    "        its full structure to be reused later.\n",
    "        Example:\n",
    "            TRUNCATE TABLE Employee;"
   ]
  },
  {
   "cell_type": "markdown",
   "id": "796bfe5f-590c-4c18-aad7-98f72053c1ad",
   "metadata": {},
   "source": [
    "Q3. What is DML? Explain INSERT, UPDATE, and DELETE with an example.\n",
    "\n",
    "    Data Manipulation Language (DML) is a family of computer language including commands\n",
    "    permitting user to manipulate data in database. This manipultion involves inseting \n",
    "    data into database, retrieving existing data, deleting data from existing tables and\n",
    "    modifying existing data. DML is mostly incorporated in SQL databases.\n",
    "    \n",
    "    INSERT :- is a Data Manipulation command in SQL, which allows users to insert data\n",
    "        in database table.\n",
    "        Example:\n",
    "            INSERT INTO Student(stu_name, stu_marks, stu_age) VALUES ('Ram', 89, 19)\n",
    "    \n",
    "    UPDATE :- is a Data Manipulation command in SQL, which allows users to update of\n",
    "        modify the existing data in database table.\n",
    "        Example:\n",
    "            UPDATE Student SET stu_marks = 91 WHERE stu_name = 'Ram';\n",
    "    \n",
    "    DELETE :- is a Data Manipulation command in SQL, which allows users to remove or \n",
    "        multiple existing records from the database tables.\n",
    "        Example :\n",
    "            DELETE FROM Student WHERE stu_name = 'Ram'"
   ]
  },
  {
   "cell_type": "markdown",
   "id": "70fbf89d-5b97-4a7d-84c7-c3b48e1070df",
   "metadata": {},
   "source": [
    "Q4. What is DQL? Explain SELECT with an example.\n",
    "\n",
    "    Data Query Language (DQL) is used to fetch data from the database.It is a part of\n",
    "    the base grouping of SQL sub-languages.DQL statements are used for performing queries\n",
    "    on the data within schema objects.The purpose of DQL commands is to get the schema \n",
    "    relation based on the query passed to it.\n",
    "    \n",
    "    SELECT :- Used to select attribute based on the condition described by WHERE clause.\n",
    "        Example\n",
    "            SELECT stu_name FROM Student WHERE stu_marks > 85"
   ]
  },
  {
   "cell_type": "markdown",
   "id": "816824bf-7f38-476c-875a-61ce42cfc439",
   "metadata": {},
   "source": [
    "Q5. Explain Primary Key and Foreign Key.\n",
    "\n",
    "    Primary key:- Primary key is a column or a set of columns in a table whose values \n",
    "        uniquely identify a row in the table. A relational database is designed to enforce\n",
    "        the uniqueness of primary keys by allowing only one row with a given primary key\n",
    "        value in a table.\n",
    "        \n",
    "    Foreign key:- Foreign key is a column or a set of columns in a table whose values\n",
    "        corresponds to the values of the primary key in another table. In order to add\n",
    "        a row with a given foreign key value, there must exist a row in the related \n",
    "        table with the same primary key value."
   ]
  },
  {
   "cell_type": "markdown",
   "id": "b52ea8fc-42a1-43d6-b5e2-b79635075769",
   "metadata": {},
   "source": [
    "Q6. Write a python code to connect MySQL to python. Explain the cursor() and execute() method.\n",
    "\n",
    "    cursor() :- cursor is an object which helps to execute the query and fetch the records \n",
    "        from the database. It is used to execute statements to communicate with MySQL database.\n",
    "        \n",
    "    execute() :- this method executes the given database operation. This function requires\n",
    "        one parameter, the query. If the query contains any substitution then a second \n",
    "        parameter, a tuple, containing the values to substitute must be given."
   ]
  },
  {
   "cell_type": "code",
   "execution_count": null,
   "id": "9489d646-224f-4722-8b6a-e198256ba0f5",
   "metadata": {},
   "outputs": [],
   "source": [
    "import mysql.connector\n",
    "mydb = mysql.connector.connect(\n",
    "    host = \"localhost\",\n",
    "    user = \"abc\",\n",
    "    password = \"password\"\n",
    ")\n",
    "mycursor = mydb.cursor()\n",
    "mycursor.execute(\"CREATE DATABASE if not exists test2\")\n",
    "mydb.close()"
   ]
  },
  {
   "cell_type": "markdown",
   "id": "b99c2d30-881a-450c-9e72-62a643b32236",
   "metadata": {},
   "source": [
    "Q7. Give the order of execution of SQL clauses in an SQL query.\n",
    "\n",
    "    Order of execution of SQL clauses in an SQL query:\n",
    "        1. FROM/JOIN : Choose and join tables to get base data.\n",
    "        2. WHERE : is executed to filter out records that do not meet the constraint.\n",
    "        3. GROUP BY : is executed to group the data based on the values in one or more columns.\n",
    "        4. HAVING : is executed to remove the created grouped records that don't meet the constraints.\n",
    "        5. SELECT : is executed to derive all the desired columns and expressions. \n",
    "        6. ORDER BY : is executed to sort the derived values in ascending or descending order.\n",
    "        7. LIMIT : is executed to keep or skip the specified number of rows."
   ]
  },
  {
   "cell_type": "code",
   "execution_count": null,
   "id": "67d19ed9-f299-463f-8338-a3a35f87541d",
   "metadata": {},
   "outputs": [],
   "source": []
  }
 ],
 "metadata": {
  "kernelspec": {
   "display_name": "Python 3 (ipykernel)",
   "language": "python",
   "name": "python3"
  },
  "language_info": {
   "codemirror_mode": {
    "name": "ipython",
    "version": 3
   },
   "file_extension": ".py",
   "mimetype": "text/x-python",
   "name": "python",
   "nbconvert_exporter": "python",
   "pygments_lexer": "ipython3",
   "version": "3.10.8"
  }
 },
 "nbformat": 4,
 "nbformat_minor": 5
}
