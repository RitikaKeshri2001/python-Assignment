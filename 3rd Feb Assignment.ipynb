{
 "cells": [
  {
   "cell_type": "markdown",
   "id": "817f9100-9cf0-47dd-8318-d7a602738168",
   "metadata": {},
   "source": [
    "Q1. Which keyword is used to create a function? Create a function to return a list of odd numbers in the range of 1 to 25.\n",
    "\n",
    "    def keyword used to create a function."
   ]
  },
  {
   "cell_type": "code",
   "execution_count": 1,
   "id": "2b905bc4-9b06-4ec2-aee6-d92c7053c86b",
   "metadata": {},
   "outputs": [
    {
     "data": {
      "text/plain": [
       "[1, 3, 5, 7, 9, 11, 13, 15, 17, 19, 21, 23, 25]"
      ]
     },
     "execution_count": 1,
     "metadata": {},
     "output_type": "execute_result"
    }
   ],
   "source": [
    "def odd(l):\n",
    "    l1 = []\n",
    "    for i in l:\n",
    "        if i % 2 != 0:\n",
    "            l1.append(i)\n",
    "    return l1\n",
    "\n",
    "odd(list(range(1, 26)))"
   ]
  },
  {
   "cell_type": "markdown",
   "id": "3099ac40-495b-4d19-adfb-59a470338005",
   "metadata": {},
   "source": [
    "Q2. Why *args and **kwargs is used in some functions? Create a function each for *args and **kwargs to demonstrate their use.\n",
    "\n",
    "    *args and **kwargs allows us to pass multiple arguments or keywords to a function.\n",
    "    \n",
    "    *args in function is used to pass varialbe number of arguments to a function. It \n",
    "    is used to pass a non-key worded, variable length argument list.\n",
    "    \n",
    "    **kwargs in function is used to pass a key worded, variable-length argument list.\n",
    "    The reason for double star is that double star allows us to pass through keyword \n",
    "    arguments (and any number of them)."
   ]
  },
  {
   "cell_type": "code",
   "execution_count": 2,
   "id": "f1dab968-5c99-4be0-8f4c-c62a1517445a",
   "metadata": {},
   "outputs": [
    {
     "data": {
      "text/plain": [
       "(1, 2, 3, 4)"
      ]
     },
     "execution_count": 2,
     "metadata": {},
     "output_type": "execute_result"
    }
   ],
   "source": [
    "def arg(*args):\n",
    "    return args\n",
    "\n",
    "arg(1,2,3,4)"
   ]
  },
  {
   "cell_type": "code",
   "execution_count": 3,
   "id": "c4678eab-64dd-44d8-a829-e5f9701eacf6",
   "metadata": {},
   "outputs": [
    {
     "data": {
      "text/plain": [
       "{'a': 'mango', 'b': 345, 'c': 345.6}"
      ]
     },
     "execution_count": 3,
     "metadata": {},
     "output_type": "execute_result"
    }
   ],
   "source": [
    "def kwarg(**kwargs):\n",
    "    return kwargs\n",
    "\n",
    "kwarg(a = \"mango\", b = 345, c = 345.6)"
   ]
  },
  {
   "cell_type": "markdown",
   "id": "c6ef269b-889b-4fa1-90f8-17f790c003f8",
   "metadata": {},
   "source": [
    "Q3. What is an iterator in python? Name the method used to initialise the iterator object and the method used for iteration. Use these methods to print the first five elements of the given list [2, 4, 6, 8, 10, 12, 14, 16, 18, 20].\n",
    "\n",
    "    Iterators in python is an object that is used to iterate over iterable objects like lists.\n",
    "    tuples, dicts, and sets. \n",
    "    The iterator object is initialized using the iter() method. \n",
    "    It uses the next() method for iteration."
   ]
  },
  {
   "cell_type": "code",
   "execution_count": 4,
   "id": "554ca87b-b16f-4d25-aaa4-9eea4dd9c562",
   "metadata": {},
   "outputs": [
    {
     "data": {
      "text/plain": [
       "2"
      ]
     },
     "execution_count": 4,
     "metadata": {},
     "output_type": "execute_result"
    }
   ],
   "source": [
    "l = [2, 4, 6, 8, 10, 12, 14, 16, 18, 20]\n",
    "l1 = iter(l)\n",
    "next(l1)"
   ]
  },
  {
   "cell_type": "code",
   "execution_count": 5,
   "id": "1ec61aeb-0fa1-4147-a662-d3de12a8d158",
   "metadata": {},
   "outputs": [
    {
     "data": {
      "text/plain": [
       "4"
      ]
     },
     "execution_count": 5,
     "metadata": {},
     "output_type": "execute_result"
    }
   ],
   "source": [
    "next(l1)"
   ]
  },
  {
   "cell_type": "code",
   "execution_count": 6,
   "id": "a6f6abce-3d15-4ff3-b369-47970aa4fe8b",
   "metadata": {},
   "outputs": [
    {
     "data": {
      "text/plain": [
       "6"
      ]
     },
     "execution_count": 6,
     "metadata": {},
     "output_type": "execute_result"
    }
   ],
   "source": [
    "next(l1)"
   ]
  },
  {
   "cell_type": "code",
   "execution_count": 7,
   "id": "ee628083-ef06-4325-9a0a-959a845bc003",
   "metadata": {},
   "outputs": [
    {
     "data": {
      "text/plain": [
       "8"
      ]
     },
     "execution_count": 7,
     "metadata": {},
     "output_type": "execute_result"
    }
   ],
   "source": [
    "next(l1)"
   ]
  },
  {
   "cell_type": "code",
   "execution_count": 8,
   "id": "786b25f4-6a85-4aa4-8503-3ddaaeee0ca5",
   "metadata": {},
   "outputs": [
    {
     "data": {
      "text/plain": [
       "10"
      ]
     },
     "execution_count": 8,
     "metadata": {},
     "output_type": "execute_result"
    }
   ],
   "source": [
    "next(l1)"
   ]
  },
  {
   "cell_type": "markdown",
   "id": "d5712415-b554-4313-ac6b-5f2065116276",
   "metadata": {},
   "source": [
    "Q4. What is a generator function in python? Why yield keyword is used? Give an example of a generator function.\n",
    "\n",
    "    In python generator function are those functions that, instead of returning a single value,\n",
    "    return an iterable generator object. We can access or read the value returned from the \n",
    "    generator function stored inside a generator object one-by-one using a simple loop or\n",
    "    using next() or list() method.\n",
    "\n",
    "    The yield keyword in python is similar to a return statement used for returning values or \n",
    "    objects in python. The yield statements returns a generator object, instead of returning\n",
    "    a value.\n",
    "    yield keyword is used to create a generator function. A type of function that is memory\n",
    "    efficient and can be used like an iterator object.\n",
    "    yield statement only pauses the execution of the function."
   ]
  },
  {
   "cell_type": "code",
   "execution_count": 9,
   "id": "8462cb31-4481-4cf1-9c0a-7ee16a9691ef",
   "metadata": {},
   "outputs": [
    {
     "name": "stdout",
     "output_type": "stream",
     "text": [
      "1 2 3 4 5 "
     ]
    }
   ],
   "source": [
    "# generator function\n",
    "def count(n):\n",
    "    i = 1\n",
    "    while i <= n:\n",
    "        yield i\n",
    "        i += 1\n",
    "        \n",
    "c = count(5)\n",
    "for i in c:\n",
    "    print(i, end = \" \")"
   ]
  },
  {
   "cell_type": "markdown",
   "id": "d1cc3ac6-b35a-4a9f-b86d-f2486e9e1e6d",
   "metadata": {},
   "source": [
    "Q5. Create a generator function for prime numbers less than 1000. Use the next() method to print the first 20 prime numbers."
   ]
  },
  {
   "cell_type": "code",
   "execution_count": 10,
   "id": "98b15ccb-630a-4ffd-84bd-52b58ace3a4b",
   "metadata": {},
   "outputs": [
    {
     "data": {
      "text/plain": [
       "1"
      ]
     },
     "execution_count": 10,
     "metadata": {},
     "output_type": "execute_result"
    }
   ],
   "source": [
    "def isPrime(n):\n",
    "    for i in range(2, n):\n",
    "        if n%i == 0:\n",
    "            return False\n",
    "    return True\n",
    "\n",
    "def prime():\n",
    "    i = 1\n",
    "    while i < 1000:\n",
    "        if isPrime(i) == True:\n",
    "            yield i\n",
    "        i += 1\n",
    "        \n",
    "n = prime()\n",
    "s = iter(n)\n",
    "next(s)"
   ]
  },
  {
   "cell_type": "code",
   "execution_count": 11,
   "id": "587296e7-7270-47f2-af81-fd0aca6ea65a",
   "metadata": {},
   "outputs": [
    {
     "data": {
      "text/plain": [
       "2"
      ]
     },
     "execution_count": 11,
     "metadata": {},
     "output_type": "execute_result"
    }
   ],
   "source": [
    "next(s)"
   ]
  },
  {
   "cell_type": "code",
   "execution_count": 12,
   "id": "bc8cddbb-566d-4d28-80f7-233e826c57ad",
   "metadata": {},
   "outputs": [
    {
     "data": {
      "text/plain": [
       "3"
      ]
     },
     "execution_count": 12,
     "metadata": {},
     "output_type": "execute_result"
    }
   ],
   "source": [
    "next(s)"
   ]
  },
  {
   "cell_type": "code",
   "execution_count": 13,
   "id": "b16cb533-57df-48e1-815e-1f0b623795a7",
   "metadata": {},
   "outputs": [
    {
     "data": {
      "text/plain": [
       "5"
      ]
     },
     "execution_count": 13,
     "metadata": {},
     "output_type": "execute_result"
    }
   ],
   "source": [
    "next(s)"
   ]
  },
  {
   "cell_type": "code",
   "execution_count": 14,
   "id": "204328c7-e059-49f1-9808-48b778902357",
   "metadata": {},
   "outputs": [
    {
     "data": {
      "text/plain": [
       "7"
      ]
     },
     "execution_count": 14,
     "metadata": {},
     "output_type": "execute_result"
    }
   ],
   "source": [
    "next(s)"
   ]
  },
  {
   "cell_type": "code",
   "execution_count": 15,
   "id": "90ffd2de-db86-4e8e-a69e-f33735648bad",
   "metadata": {},
   "outputs": [
    {
     "data": {
      "text/plain": [
       "11"
      ]
     },
     "execution_count": 15,
     "metadata": {},
     "output_type": "execute_result"
    }
   ],
   "source": [
    "next(s)"
   ]
  },
  {
   "cell_type": "code",
   "execution_count": 16,
   "id": "ca059532-9fbe-4bab-81cc-9da94aeb487e",
   "metadata": {},
   "outputs": [
    {
     "data": {
      "text/plain": [
       "13"
      ]
     },
     "execution_count": 16,
     "metadata": {},
     "output_type": "execute_result"
    }
   ],
   "source": [
    "next(s)"
   ]
  },
  {
   "cell_type": "code",
   "execution_count": 17,
   "id": "2dfab60d-9ca0-4d75-a375-59b9a8c1ebab",
   "metadata": {},
   "outputs": [
    {
     "data": {
      "text/plain": [
       "17"
      ]
     },
     "execution_count": 17,
     "metadata": {},
     "output_type": "execute_result"
    }
   ],
   "source": [
    "next(s)"
   ]
  },
  {
   "cell_type": "code",
   "execution_count": 18,
   "id": "6e461f47-7204-40c8-a1d7-cd6c0841defe",
   "metadata": {},
   "outputs": [
    {
     "data": {
      "text/plain": [
       "19"
      ]
     },
     "execution_count": 18,
     "metadata": {},
     "output_type": "execute_result"
    }
   ],
   "source": [
    "next(s)"
   ]
  },
  {
   "cell_type": "code",
   "execution_count": 19,
   "id": "922b4ef2-bef3-4402-83f0-25b9a21b094f",
   "metadata": {},
   "outputs": [
    {
     "data": {
      "text/plain": [
       "23"
      ]
     },
     "execution_count": 19,
     "metadata": {},
     "output_type": "execute_result"
    }
   ],
   "source": [
    "next(s)"
   ]
  },
  {
   "cell_type": "code",
   "execution_count": 20,
   "id": "743f5ec2-493d-414a-ab73-774ac9fae1a1",
   "metadata": {},
   "outputs": [
    {
     "data": {
      "text/plain": [
       "29"
      ]
     },
     "execution_count": 20,
     "metadata": {},
     "output_type": "execute_result"
    }
   ],
   "source": [
    "next(s)"
   ]
  },
  {
   "cell_type": "code",
   "execution_count": 21,
   "id": "3280f15a-aa31-4508-ba9e-ec6fcc15fa0e",
   "metadata": {},
   "outputs": [
    {
     "data": {
      "text/plain": [
       "31"
      ]
     },
     "execution_count": 21,
     "metadata": {},
     "output_type": "execute_result"
    }
   ],
   "source": [
    "next(s)"
   ]
  },
  {
   "cell_type": "code",
   "execution_count": 22,
   "id": "f7f3fc35-a7a5-439b-8cb5-e94d94f04601",
   "metadata": {},
   "outputs": [
    {
     "data": {
      "text/plain": [
       "37"
      ]
     },
     "execution_count": 22,
     "metadata": {},
     "output_type": "execute_result"
    }
   ],
   "source": [
    "next(s)"
   ]
  },
  {
   "cell_type": "code",
   "execution_count": 23,
   "id": "893a693e-c559-4eb7-9ae5-b5fd0edc1200",
   "metadata": {},
   "outputs": [
    {
     "data": {
      "text/plain": [
       "41"
      ]
     },
     "execution_count": 23,
     "metadata": {},
     "output_type": "execute_result"
    }
   ],
   "source": [
    "next(s)"
   ]
  },
  {
   "cell_type": "code",
   "execution_count": 24,
   "id": "82554082-a7a6-4748-8d6f-b3ddc361b8a3",
   "metadata": {},
   "outputs": [
    {
     "data": {
      "text/plain": [
       "43"
      ]
     },
     "execution_count": 24,
     "metadata": {},
     "output_type": "execute_result"
    }
   ],
   "source": [
    "next(s)"
   ]
  },
  {
   "cell_type": "code",
   "execution_count": 25,
   "id": "85115fab-2ad2-48ba-9314-79548608c9f7",
   "metadata": {},
   "outputs": [
    {
     "data": {
      "text/plain": [
       "47"
      ]
     },
     "execution_count": 25,
     "metadata": {},
     "output_type": "execute_result"
    }
   ],
   "source": [
    "next(s)"
   ]
  },
  {
   "cell_type": "code",
   "execution_count": 26,
   "id": "46dea04f-b076-486b-9c0f-2769c1f19b41",
   "metadata": {},
   "outputs": [
    {
     "data": {
      "text/plain": [
       "53"
      ]
     },
     "execution_count": 26,
     "metadata": {},
     "output_type": "execute_result"
    }
   ],
   "source": [
    "next(s)"
   ]
  },
  {
   "cell_type": "code",
   "execution_count": 27,
   "id": "be7630c6-79f4-4043-9204-87637b737c0b",
   "metadata": {},
   "outputs": [
    {
     "data": {
      "text/plain": [
       "59"
      ]
     },
     "execution_count": 27,
     "metadata": {},
     "output_type": "execute_result"
    }
   ],
   "source": [
    "next(s)"
   ]
  },
  {
   "cell_type": "code",
   "execution_count": 28,
   "id": "01762f46-2521-4e45-be32-defb6829ae51",
   "metadata": {},
   "outputs": [
    {
     "data": {
      "text/plain": [
       "61"
      ]
     },
     "execution_count": 28,
     "metadata": {},
     "output_type": "execute_result"
    }
   ],
   "source": [
    "next(s)"
   ]
  },
  {
   "cell_type": "code",
   "execution_count": 29,
   "id": "cceb6703-c520-46f3-861f-1f1790fd1089",
   "metadata": {},
   "outputs": [
    {
     "data": {
      "text/plain": [
       "67"
      ]
     },
     "execution_count": 29,
     "metadata": {},
     "output_type": "execute_result"
    }
   ],
   "source": [
    "next(s)"
   ]
  },
  {
   "cell_type": "markdown",
   "id": "144e4255-1dbd-4fd8-a59f-08a66b5c42c5",
   "metadata": {},
   "source": [
    "Q6. Write a python program to print the first 10 Fibonacci numbers using a while loop."
   ]
  },
  {
   "cell_type": "code",
   "execution_count": 30,
   "id": "ac8da887-7d4b-4f83-8993-3cc405e3487d",
   "metadata": {},
   "outputs": [
    {
     "name": "stdout",
     "output_type": "stream",
     "text": [
      "0 1 1 2 3 5 8 13 21 34 "
     ]
    }
   ],
   "source": [
    "a, b = 0, 1\n",
    "i = 1\n",
    "while i <= 10:\n",
    "    print(a, end = \" \")\n",
    "    a, b = b, a+b\n",
    "    i += 1"
   ]
  },
  {
   "cell_type": "markdown",
   "id": "5b7e02e8-1ec9-4e98-90b6-6edb9c6c6607",
   "metadata": {},
   "source": [
    "Q7. Write a List Comprehension to iterate through the given string: ‘pwskills’. Expected output: ['p', 'w', 's', 'k', 'i', 'l', 'l', 's']"
   ]
  },
  {
   "cell_type": "code",
   "execution_count": 31,
   "id": "2baf0134-6fa2-4e94-9619-1306e7c0682e",
   "metadata": {},
   "outputs": [
    {
     "data": {
      "text/plain": [
       "['p', 'w', 's', 'k', 'i', 'l', 'l', 's']"
      ]
     },
     "execution_count": 31,
     "metadata": {},
     "output_type": "execute_result"
    }
   ],
   "source": [
    "s = \"pwskills\"\n",
    "list(s[i] for i in range(0, len(s)))"
   ]
  },
  {
   "cell_type": "markdown",
   "id": "26415a47-aeea-4a2d-87d6-90644fdf448c",
   "metadata": {},
   "source": [
    "Q8. Write a python program to check whether a given number is Palindrome or not using a while loop."
   ]
  },
  {
   "cell_type": "code",
   "execution_count": 33,
   "id": "2f7c31fc-2352-4c98-8ee5-fac1d5818fec",
   "metadata": {},
   "outputs": [
    {
     "name": "stdout",
     "output_type": "stream",
     "text": [
      "Number is palindrome\n"
     ]
    }
   ],
   "source": [
    "# n = int(input(\"Enter number to check whether it is palindrome or not\"))\n",
    "n = 45654\n",
    "num = n\n",
    "rev = 0\n",
    "while num > 0:\n",
    "    l = num%10\n",
    "    rev = rev * 10 + l\n",
    "    num = num//10\n",
    "if rev == n:\n",
    "    print(\"Number is palindrome\")\n",
    "else :\n",
    "    print(\"Number is not palindrome\")"
   ]
  },
  {
   "cell_type": "markdown",
   "id": "7713975f-f3e5-4ea4-9e01-508b1d27c9b0",
   "metadata": {},
   "source": [
    "Q9. Write a code to print odd numbers from 1 to 100 using list comprehension."
   ]
  },
  {
   "cell_type": "code",
   "execution_count": 34,
   "id": "9d7d4644-c456-47d3-82a7-93e9ee48466b",
   "metadata": {},
   "outputs": [
    {
     "data": {
      "text/plain": [
       "[1,\n",
       " 3,\n",
       " 5,\n",
       " 7,\n",
       " 9,\n",
       " 11,\n",
       " 13,\n",
       " 15,\n",
       " 17,\n",
       " 19,\n",
       " 21,\n",
       " 23,\n",
       " 25,\n",
       " 27,\n",
       " 29,\n",
       " 31,\n",
       " 33,\n",
       " 35,\n",
       " 37,\n",
       " 39,\n",
       " 41,\n",
       " 43,\n",
       " 45,\n",
       " 47,\n",
       " 49,\n",
       " 51,\n",
       " 53,\n",
       " 55,\n",
       " 57,\n",
       " 59,\n",
       " 61,\n",
       " 63,\n",
       " 65,\n",
       " 67,\n",
       " 69,\n",
       " 71,\n",
       " 73,\n",
       " 75,\n",
       " 77,\n",
       " 79,\n",
       " 81,\n",
       " 83,\n",
       " 85,\n",
       " 87,\n",
       " 89,\n",
       " 91,\n",
       " 93,\n",
       " 95,\n",
       " 97,\n",
       " 99]"
      ]
     },
     "execution_count": 34,
     "metadata": {},
     "output_type": "execute_result"
    }
   ],
   "source": [
    "[i for i in range(1, 101) if i%2 != 0]"
   ]
  },
  {
   "cell_type": "code",
   "execution_count": null,
   "id": "bcd49de6-4140-4ac7-adab-b925b68a09de",
   "metadata": {},
   "outputs": [],
   "source": []
  }
 ],
 "metadata": {
  "kernelspec": {
   "display_name": "Python 3 (ipykernel)",
   "language": "python",
   "name": "python3"
  },
  "language_info": {
   "codemirror_mode": {
    "name": "ipython",
    "version": 3
   },
   "file_extension": ".py",
   "mimetype": "text/x-python",
   "name": "python",
   "nbconvert_exporter": "python",
   "pygments_lexer": "ipython3",
   "version": "3.10.8"
  }
 },
 "nbformat": 4,
 "nbformat_minor": 5
}
