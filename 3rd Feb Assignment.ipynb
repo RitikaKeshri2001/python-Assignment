{
 "cells": [
  {
   "cell_type": "markdown",
   "id": "9ef73ef9-bf22-4cfe-b28b-d39a80e67376",
   "metadata": {},
   "source": [
    "Q1. Which keyword is used to create a function? Create a function to return a list of odd\n",
    "    numbers in the range of 1 to 25.\n",
    "    \n",
    "    def keyword used to create a function."
   ]
  },
  {
   "cell_type": "code",
   "execution_count": 1,
   "id": "b0a25117-3c47-455b-9e37-a34af9e7d2df",
   "metadata": {},
   "outputs": [
    {
     "data": {
      "text/plain": [
       "[1, 3, 5, 7, 9, 11, 13, 15, 17, 19, 21, 23, 25]"
      ]
     },
     "execution_count": 1,
     "metadata": {},
     "output_type": "execute_result"
    }
   ],
   "source": [
    "def odd(l):\n",
    "    l1 = []\n",
    "    for i in l:\n",
    "        if i % 2 != 0:\n",
    "            l1.append(i)\n",
    "    return l1\n",
    "\n",
    "odd(list(range(1, 26)))"
   ]
  },
  {
   "cell_type": "markdown",
   "id": "7f33266f-07fb-493e-a90f-00eb66ad2033",
   "metadata": {},
   "source": [
    "Q2. Why *args and **kwargs is used in some functions? Create a function each for *args and **kwargs to demonstrate their use.\n",
    "\n",
    "    *args and **kwargs allows us to pass multiple arguments or keywords to a function.\n",
    "    \n",
    "    *args in function is used to pass varialbe number of arguments to a function. It \n",
    "    is used to pass a non-key worded, variable length argument list.\n",
    "    \n",
    "    **kwargs in function is used to pass a key worded, variable-length argument list.\n",
    "    The reason for double star is that double star allows us to pass through keyword \n",
    "    arguments (and any number of them)."
   ]
  },
  {
   "cell_type": "code",
   "execution_count": 2,
   "id": "84ca9add-cdde-425a-8bf6-a0a11517559c",
   "metadata": {},
   "outputs": [
    {
     "data": {
      "text/plain": [
       "(1, 2, 3, 4)"
      ]
     },
     "execution_count": 2,
     "metadata": {},
     "output_type": "execute_result"
    }
   ],
   "source": [
    "def arg(*args):\n",
    "    return args\n",
    "\n",
    "arg(1,2,3,4)"
   ]
  },
  {
   "cell_type": "code",
   "execution_count": 3,
   "id": "c967be8e-12ac-4a00-a108-51d004e20e24",
   "metadata": {},
   "outputs": [
    {
     "data": {
      "text/plain": [
       "{'a': 'mango', 'b': 345, 'c': 345.6}"
      ]
     },
     "execution_count": 3,
     "metadata": {},
     "output_type": "execute_result"
    }
   ],
   "source": [
    "def kwarg(**kwargs):\n",
    "    return kwargs\n",
    "\n",
    "kwarg(a = \"mango\", b = 345, c = 345.6)"
   ]
  },
  {
   "cell_type": "markdown",
   "id": "e9368534-2239-49c9-b0ad-a3abfc537e9b",
   "metadata": {},
   "source": [
    "Q3. What is an iterator in python? Name the method used to initialise the iterator object and the method\n",
    "used for iteration. Use these methods to print the first five elements of the given list [2, 4, 6, 8, 10, 12, 14,\n",
    "16, 18, 20].\n",
    "\n",
    "    Iterators in python is an object that is used to iterate over iterable objects like lists.\n",
    "    tuples, dicts, and sets. \n",
    "    The iterator object is initialized using the iter() method. \n",
    "    It uses the next() method for iteration."
   ]
  },
  {
   "cell_type": "code",
   "execution_count": 4,
   "id": "ecd5a4c5-24e0-40a9-9ec2-c35527fef7a4",
   "metadata": {},
   "outputs": [
    {
     "data": {
      "text/plain": [
       "2"
      ]
     },
     "execution_count": 4,
     "metadata": {},
     "output_type": "execute_result"
    }
   ],
   "source": [
    "l = [2, 4, 6, 8, 10, 12, 14, 16, 18, 20]\n",
    "l1 = iter(l)\n",
    "next(l1)"
   ]
  },
  {
   "cell_type": "code",
   "execution_count": 5,
   "id": "82a518f4-c3e7-4085-bd8c-b88a85924f48",
   "metadata": {},
   "outputs": [
    {
     "data": {
      "text/plain": [
       "4"
      ]
     },
     "execution_count": 5,
     "metadata": {},
     "output_type": "execute_result"
    }
   ],
   "source": [
    "next(l1)"
   ]
  },
  {
   "cell_type": "code",
   "execution_count": 6,
   "id": "13793641-e374-4ec4-a39d-ed5baa1bd680",
   "metadata": {},
   "outputs": [
    {
     "data": {
      "text/plain": [
       "6"
      ]
     },
     "execution_count": 6,
     "metadata": {},
     "output_type": "execute_result"
    }
   ],
   "source": [
    "next(l1)"
   ]
  },
  {
   "cell_type": "code",
   "execution_count": 7,
   "id": "4a725e35-0ab2-4515-9528-8ef52a98d1b5",
   "metadata": {},
   "outputs": [
    {
     "data": {
      "text/plain": [
       "8"
      ]
     },
     "execution_count": 7,
     "metadata": {},
     "output_type": "execute_result"
    }
   ],
   "source": [
    "next(l1)"
   ]
  },
  {
   "cell_type": "code",
   "execution_count": 8,
   "id": "3c07a26b-5cff-497e-a4f7-51819064f88e",
   "metadata": {},
   "outputs": [
    {
     "data": {
      "text/plain": [
       "10"
      ]
     },
     "execution_count": 8,
     "metadata": {},
     "output_type": "execute_result"
    }
   ],
   "source": [
    "next(l1)"
   ]
  },
  {
   "cell_type": "markdown",
   "id": "44e59057-e4b9-48fa-b556-2049f2d816d4",
   "metadata": {},
   "source": [
    "Q4. What is a generator function in python? Why yield keyword is used? Give an example of a generator\n",
    "function.\n",
    "\n",
    "    In python generator function are those functions that, instead of returning a single value,\n",
    "    return an iterable generator object. We can access or read the value returned from the \n",
    "    generator function stored inside a generator object one-by-one using a simple loop or\n",
    "    using next() or list() method.\n",
    "    \n",
    "    The yield keyword in python is similar to a return statement used for returning values or \n",
    "    objects in python. The yield statements returns a generator object, instead of returning\n",
    "    a value.\n",
    "    yield keyword is used to create a generator function. A type of function that is memory\n",
    "    efficient and can be used like an iterator object.\n",
    "    yield statement only pauses the execution of the function."
   ]
  },
  {
   "cell_type": "code",
   "execution_count": 9,
   "id": "fdc74c41-e92b-4d27-b543-d9927023eca4",
   "metadata": {},
   "outputs": [
    {
     "name": "stdout",
     "output_type": "stream",
     "text": [
      "1 2 3 4 5 "
     ]
    }
   ],
   "source": [
    "# generator function\n",
    "def count(n):\n",
    "    i = 1\n",
    "    while i <= n:\n",
    "        yield i\n",
    "        i += 1\n",
    "        \n",
    "c = count(5)\n",
    "for i in c:\n",
    "    print(i, end = \" \")"
   ]
  },
  {
   "cell_type": "markdown",
   "id": "b84fd638-b54a-4566-9001-48955de0b18d",
   "metadata": {},
   "source": [
    "Q5. Create a generator function for prime numbers less than 1000. Use the next() method to print the\n",
    "first 20 prime numbers."
   ]
  },
  {
   "cell_type": "code",
   "execution_count": 10,
   "id": "7aa2e7df-67b6-4d4b-841b-76cd7157c3b8",
   "metadata": {},
   "outputs": [
    {
     "name": "stdout",
     "output_type": "stream",
     "text": [
      "1 2 3 5 7 11 13 17 19 23 29 31 37 41 43 47 53 59 61 67 "
     ]
    }
   ],
   "source": [
    "def isPrime(n):\n",
    "    for i in range(2, n):\n",
    "        if n%i == 0:\n",
    "            return False\n",
    "    return True\n",
    "\n",
    "def prime():\n",
    "    i = 1\n",
    "    count = 1\n",
    "    while i < 1000 and count <= 20:\n",
    "        if isPrime(i) == True:\n",
    "            yield i\n",
    "            count += 1\n",
    "        i += 1\n",
    "        \n",
    "n = prime()\n",
    "for i in n:\n",
    "    print(i, end = \" \")"
   ]
  },
  {
   "cell_type": "markdown",
   "id": "124fc809-4b64-4b51-881b-3d25f293f820",
   "metadata": {},
   "source": [
    "Q6. Write a python program to print the first 10 Fibonacci numbers using a while loop."
   ]
  },
  {
   "cell_type": "code",
   "execution_count": 11,
   "id": "db7f848c-c0a3-49a3-9b5f-2cd78520d8a3",
   "metadata": {},
   "outputs": [
    {
     "name": "stdout",
     "output_type": "stream",
     "text": [
      "0 1 1 2 3 5 8 13 21 34 "
     ]
    }
   ],
   "source": [
    "a, b = 0, 1\n",
    "i = 1\n",
    "while i <= 10:\n",
    "    print(a, end = \" \")\n",
    "    a, b = b, a+b\n",
    "    i += 1"
   ]
  },
  {
   "cell_type": "markdown",
   "id": "01060524-81b1-4dcb-a76c-aaf9694a43ac",
   "metadata": {},
   "source": [
    "Q7. Write a List Comprehension to iterate through the given string: ‘pwskills’.\n",
    "Expected output: ['p', 'w', 's', 'k', 'i', 'l', 'l', 's']"
   ]
  },
  {
   "cell_type": "code",
   "execution_count": 12,
   "id": "48521bba-b657-4ee8-a79c-3636a77880b6",
   "metadata": {},
   "outputs": [
    {
     "data": {
      "text/plain": [
       "['p', 'w', 's', 'k', 'i', 'l', 'l', 's']"
      ]
     },
     "execution_count": 12,
     "metadata": {},
     "output_type": "execute_result"
    }
   ],
   "source": [
    "s = \"pwskills\"\n",
    "list(s[i] for i in range(0, len(s)))"
   ]
  },
  {
   "cell_type": "markdown",
   "id": "7e5f402b-8b61-445d-bef8-04f7df2928d0",
   "metadata": {},
   "source": [
    "Q8. Write a python program to check whether a given number is Palindrome or not using a while loop."
   ]
  },
  {
   "cell_type": "code",
   "execution_count": 13,
   "id": "b3061c70-c418-4a37-9932-da5ff20744a8",
   "metadata": {},
   "outputs": [
    {
     "name": "stdout",
     "output_type": "stream",
     "text": [
      "Number is palindrome\n"
     ]
    }
   ],
   "source": [
    "n = 45654\n",
    "num = n\n",
    "rev = 0\n",
    "while num > 0:\n",
    "    l = num%10\n",
    "    rev = rev * 10 + l\n",
    "    num = num//10\n",
    "if rev == n:\n",
    "    print(\"Number is palindrome\")\n",
    "else :\n",
    "    print(\"Number is not palindrome\")"
   ]
  },
  {
   "cell_type": "markdown",
   "id": "5456def9-b1c4-4a88-a0ea-cc7070b0ac00",
   "metadata": {},
   "source": [
    "Q9. Write a code to print odd numbers from 1 to 100 using list comprehension."
   ]
  },
  {
   "cell_type": "code",
   "execution_count": 15,
   "id": "14ed42ef-3c25-4d71-b9ca-dd0bc1ec5b63",
   "metadata": {},
   "outputs": [
    {
     "data": {
      "text/plain": [
       "[1,\n",
       " 3,\n",
       " 5,\n",
       " 7,\n",
       " 9,\n",
       " 11,\n",
       " 13,\n",
       " 15,\n",
       " 17,\n",
       " 19,\n",
       " 21,\n",
       " 23,\n",
       " 25,\n",
       " 27,\n",
       " 29,\n",
       " 31,\n",
       " 33,\n",
       " 35,\n",
       " 37,\n",
       " 39,\n",
       " 41,\n",
       " 43,\n",
       " 45,\n",
       " 47,\n",
       " 49,\n",
       " 51,\n",
       " 53,\n",
       " 55,\n",
       " 57,\n",
       " 59,\n",
       " 61,\n",
       " 63,\n",
       " 65,\n",
       " 67,\n",
       " 69,\n",
       " 71,\n",
       " 73,\n",
       " 75,\n",
       " 77,\n",
       " 79,\n",
       " 81,\n",
       " 83,\n",
       " 85,\n",
       " 87,\n",
       " 89,\n",
       " 91,\n",
       " 93,\n",
       " 95,\n",
       " 97,\n",
       " 99]"
      ]
     },
     "execution_count": 15,
     "metadata": {},
     "output_type": "execute_result"
    }
   ],
   "source": [
    "[i for i in range(1, 101) if i%2 != 0]"
   ]
  },
  {
   "cell_type": "code",
   "execution_count": null,
   "id": "11b6a873-5db0-486d-aff5-a51e805aad36",
   "metadata": {},
   "outputs": [],
   "source": []
  }
 ],
 "metadata": {
  "kernelspec": {
   "display_name": "Python 3 (ipykernel)",
   "language": "python",
   "name": "python3"
  },
  "language_info": {
   "codemirror_mode": {
    "name": "ipython",
    "version": 3
   },
   "file_extension": ".py",
   "mimetype": "text/x-python",
   "name": "python",
   "nbconvert_exporter": "python",
   "pygments_lexer": "ipython3",
   "version": "3.10.8"
  }
 },
 "nbformat": 4,
 "nbformat_minor": 5
}
