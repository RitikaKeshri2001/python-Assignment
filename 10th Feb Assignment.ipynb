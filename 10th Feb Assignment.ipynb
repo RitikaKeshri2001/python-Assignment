{
 "cells": [
  {
   "cell_type": "markdown",
   "id": "db9033ea-8f19-474d-b38b-cc6c965f5cb5",
   "metadata": {},
   "source": [
    "Q1. Which function is used to open a file? What are the different modes of opening a file? Explain each mode\n",
    "of file opening.\n",
    "\n",
    "    open() function is used to open a file. It returns a file object and take two arguments,\n",
    "    one that accepts the file name and another that accepts the mode(Access mode).\n",
    "    \n",
    "    Different modes of opening a file are:\n",
    "    1. Read only('r'): open text file for reading. If file doesn't exist it raises I/O error.\n",
    "        This is also default mode in which file is opened.\n",
    "        \n",
    "    2. Read and Write('r+'): open the file for reading and writing. Raises I/O error if file\n",
    "        doesn't exist.\n",
    "        \n",
    "    3. Write only('w'): open the file for writing. For existing files, the data is truncated\n",
    "        and overwritten. Creates file, if file doesn't exist.\n",
    "        \n",
    "    4. Write and Read('w+'): open for reading and writing. For existing files, the data is \n",
    "        truncated and overwritten.\n",
    "        \n",
    "    5. Append only('a'): open file for writing. The file is created if it doesn't exist. The \n",
    "        data being written will be inserted after existing data.\n",
    "        \n",
    "    6. Append and read ('a+'): Open the file for reading and writing. The handle is positioned \n",
    "         at the end of the file. The file is created if it doesn't exist. The data being written\n",
    "         will be inserted after existing data.\n",
    "         \n",
    "    7. Read only in Binary('rb'): It let the user open the file for reading in binary.\n",
    "    \n",
    "    8. Read and write in binary format('rb+'): lets the user open the file for reading and writing in \n",
    "        binary format.\n",
    "        \n",
    "    9. Write only in the Binary format('wb'): lets the user open the file for writing in binary format.\n",
    "        A new file created if the file doesn't exists and the content within the file get overwritten\n",
    "        if the file exists and has some data stored in it.\n",
    "        \n",
    "    10. Write and Read in binary format('wb+'): lets the user to open the file for reading as well as\n",
    "          writing in binary format. New file created for reading and writing if file doesn't exist.\n",
    "          The content within the file will get overwritten if the file exists and has some data in it.\n",
    "          \n",
    "    11. Append only in binary format('ab'): lets the user to open the file for appending in binary foramt.\n",
    "          The data will be inserted at the end if the file exists and has some data stored in it.\n",
    "          \n",
    "    12. Append and Read in Binary format('ab+'): lets the user to open the file for appending and reading \n",
    "          in binary format. A new file will be created if file doesn't exist. We can read and append if\n",
    "          the file exists and has some data stored in it."
   ]
  },
  {
   "cell_type": "raw",
   "id": "d56718b9-5da8-45b9-a539-721252cfa005",
   "metadata": {},
   "source": [
    "Q2. Why close() function is used? Why is it important to close a file?\n",
    "\n",
    "    close() function is used to close the opened file. \n",
    "    It is important to close a file because \n",
    "        it can slow down our program. Too many things opened, and thus more used space in the \n",
    "        RAM , will impact performance.\n",
    "        \n",
    "        For most part, many changes to files do not go into effect until after the file is closed.\n",
    "        \n",
    "        We could theoretically, run in to limits of how many we can have open.\n",
    "        \n",
    "        Some operating systems, treat open files as locked and private. While we have a file open, \n",
    "        no other file can also open it, even just to read the data."
   ]
  },
  {
   "cell_type": "markdown",
   "id": "910e415c-47eb-4b39-be79-ac83bb0dea98",
   "metadata": {},
   "source": [
    "Q3. Write a python program to create a text file. Write ‘I want to become a Data Scientist’ in that file. Then\n",
    "close the file. Open this file and read the content of the file."
   ]
  },
  {
   "cell_type": "code",
   "execution_count": 1,
   "id": "9e24b2b9-4ee4-49a6-9542-b71a6d7875ba",
   "metadata": {},
   "outputs": [
    {
     "data": {
      "text/plain": [
       "'I want to become a Data Scientist'"
      ]
     },
     "execution_count": 1,
     "metadata": {},
     "output_type": "execute_result"
    }
   ],
   "source": [
    "f = open(\"text.txt\", 'w')\n",
    "f.write(\"I want to become a Data Scientist\")\n",
    "f.close()\n",
    "f = open(\"text.txt\", 'r')\n",
    "f.read()"
   ]
  },
  {
   "cell_type": "markdown",
   "id": "f7abc6e2-7e73-4d50-816e-ab2da4ae9afa",
   "metadata": {},
   "source": [
    "Q4. Explain the following with python code: read(), readline() and readlines()."
   ]
  },
  {
   "cell_type": "code",
   "execution_count": 2,
   "id": "ce84236d-c3ba-4253-a054-aef6ac7f93be",
   "metadata": {},
   "outputs": [
    {
     "data": {
      "text/plain": [
       "'I want to become a Data Scientist'"
      ]
     },
     "execution_count": 2,
     "metadata": {},
     "output_type": "execute_result"
    }
   ],
   "source": [
    "# read() method returns the specified number of bytes from the file(whole file)\n",
    "f.seek(0)\n",
    "f.read()"
   ]
  },
  {
   "cell_type": "code",
   "execution_count": 3,
   "id": "cad65e38-3d8f-499a-882d-a08849c4da63",
   "metadata": {},
   "outputs": [
    {
     "data": {
      "text/plain": [
       "'I want'"
      ]
     },
     "execution_count": 3,
     "metadata": {},
     "output_type": "execute_result"
    }
   ],
   "source": [
    "# readline() method returns one line from the file\n",
    "# We can also specified how many bytes from the line to return.\n",
    "f.seek(0)\n",
    "f.readline(6)"
   ]
  },
  {
   "cell_type": "code",
   "execution_count": 4,
   "id": "657bafc3-45fb-4377-97f2-d7a92266a61e",
   "metadata": {},
   "outputs": [
    {
     "data": {
      "text/plain": [
       "['I want to become a Data Scientist']"
      ]
     },
     "execution_count": 4,
     "metadata": {},
     "output_type": "execute_result"
    }
   ],
   "source": [
    "# readlines() method returns a list contaning each line in the file as list item.\n",
    "f.seek(0)\n",
    "f.readlines()"
   ]
  },
  {
   "cell_type": "code",
   "execution_count": 5,
   "id": "b4ff58a8-9db4-4dbc-b5d2-92cde092ad84",
   "metadata": {},
   "outputs": [],
   "source": [
    "f.close()"
   ]
  },
  {
   "cell_type": "markdown",
   "id": "c90e5480-2891-47bc-a63f-1ff79b5e1f4a",
   "metadata": {},
   "source": [
    "Q5. Explain why with statement is used with open(). What is the advantage of using with statement and\n",
    "open() together?\n",
    "\n",
    "    The with statement simplifies exception handling by encapsulating common preparation \n",
    "    and cleanup task.\n",
    "    The with statement works with the open() function to open a file. Unlike open() where\n",
    "    we have to close the file with the close() method, the with statement closes the file \n",
    "    for us without us telling it to. It automatically close the file.\n",
    "    \n",
    "    Advantage of with statement with open():\n",
    "        It simplifies the management of common resources like file streams. \n",
    "        No need to call clase() method.\n",
    "        Helps avoiding bugs and leaks. "
   ]
  },
  {
   "cell_type": "markdown",
   "id": "33fc41fd-b02e-4db9-a9a0-d3cfb67b6def",
   "metadata": {},
   "source": [
    "Q6. Explain the write() and writelines() functions. Give a suitable example.\n",
    "\n",
    "    write(): The write() function will write the content in the file without adding\n",
    "        any extra character.The write function doesnot add a newline character to the\n",
    "        end of the string. It returns none.Used to write a string in an opened file.\n",
    "        \n",
    "    writelines(): The writelines() function write a content of list to the file.Doesn't\n",
    "        add new line character to the end of the string. Used to write a list of string\n",
    "        in an opened file."
   ]
  },
  {
   "cell_type": "code",
   "execution_count": 6,
   "id": "c936b06f-7987-4f9d-be85-db11b5f9de92",
   "metadata": {},
   "outputs": [
    {
     "name": "stdin",
     "output_type": "stream",
     "text": [
      "Enter the name of the student  Rohan\n",
      "Enter the name of the student  Mohan \n",
      "Enter the name of the student  Sohan\n"
     ]
    }
   ],
   "source": [
    "file = open(\"Student.txt\", 'w')\n",
    "\n",
    "for i in range(3): \n",
    "    name = input(\"Enter the name of the student \")\n",
    "    file.write(name)\n",
    "    file.write(\"\\n\")\n",
    "    \n",
    "file.close()"
   ]
  },
  {
   "cell_type": "code",
   "execution_count": 7,
   "id": "ccae7d0e-878e-4a16-ae7f-1fe385eec16e",
   "metadata": {},
   "outputs": [
    {
     "name": "stdin",
     "output_type": "stream",
     "text": [
      "Enter the name of the student  Rohan\n",
      "Enter the name of the student  Sohan\n",
      "Enter the name of the student  Mohan\n"
     ]
    },
    {
     "data": {
      "text/plain": [
       "<function TextIOWrapper.close()>"
      ]
     },
     "execution_count": 7,
     "metadata": {},
     "output_type": "execute_result"
    }
   ],
   "source": [
    "file1 = open(\"Student.txt\", 'w')\n",
    "l = []\n",
    "\n",
    "for i in range(3): \n",
    "    name = input(\"Enter the name of the student \")\n",
    "    l.append(name)\n",
    "    \n",
    "file1.writelines(l)\n",
    "file1.close"
   ]
  },
  {
   "cell_type": "code",
   "execution_count": null,
   "id": "2629599e-8414-4d09-8302-32a228a5b7e3",
   "metadata": {},
   "outputs": [],
   "source": []
  }
 ],
 "metadata": {
  "kernelspec": {
   "display_name": "Python 3 (ipykernel)",
   "language": "python",
   "name": "python3"
  },
  "language_info": {
   "codemirror_mode": {
    "name": "ipython",
    "version": 3
   },
   "file_extension": ".py",
   "mimetype": "text/x-python",
   "name": "python",
   "nbconvert_exporter": "python",
   "pygments_lexer": "ipython3",
   "version": "3.10.8"
  }
 },
 "nbformat": 4,
 "nbformat_minor": 5
}
