{
 "cells": [
  {
   "cell_type": "markdown",
   "id": "88c446ca-709d-46c9-93c1-00822f38a9f0",
   "metadata": {},
   "source": [
    "Q1. Create a vehicle class with an init method having instance variables as name_of_vehicle, max_speed\n",
    "and average_of_vehicle."
   ]
  },
  {
   "cell_type": "code",
   "execution_count": 1,
   "id": "3a9d9429-2763-4466-a1ae-e06524d582e7",
   "metadata": {},
   "outputs": [],
   "source": [
    "class Vehicle :\n",
    "    def __init__(self, name_of_vehicle, max_speed, average_of_vehicle):\n",
    "        self.name_of_vehicle = name_of_vehicle\n",
    "        self.max_speed = max_speed\n",
    "        self.average_of_vehicle = average_of_vehicle\n",
    "        "
   ]
  },
  {
   "cell_type": "markdown",
   "id": "7a7c8405-629e-404c-922e-1f832d27ebbd",
   "metadata": {},
   "source": [
    "Q2. Create a child class car from the vehicle class created in Que 1, which will inherit the vehicle class.\n",
    "    Create a method named seating_capacity which takes capacity as an argument and returns the name of\n",
    "    the vehicle and its seating capacity."
   ]
  },
  {
   "cell_type": "code",
   "execution_count": 2,
   "id": "06fac802-9051-4c72-b350-123a75cd6590",
   "metadata": {},
   "outputs": [
    {
     "name": "stdout",
     "output_type": "stream",
     "text": [
      "Name of the vehicle:  Tesla\n",
      "Seating Capacity:  4\n"
     ]
    }
   ],
   "source": [
    "class Car(Vehicle):\n",
    "        \n",
    "    def seating_capacity(self, seating_cap):\n",
    "        self.seating_cap = seating_cap\n",
    "        print(\"Name of the vehicle: \", self.name_of_vehicle)\n",
    "        print(\"Seating Capacity: \", self.seating_cap)\n",
    "        \n",
    "car = Car(\"Tesla\", 80, 120)\n",
    "car.seating_capacity(4)"
   ]
  },
  {
   "cell_type": "markdown",
   "id": "4659c444-f289-40fa-bb15-69a0a2cc8f1b",
   "metadata": {},
   "source": [
    "Q3. What is multiple inheritance? Write a python code to demonstrate multiple inheritance.\n",
    "\n",
    "    When a class derived from more than one base class it is called multiple inheritance.\n",
    "    The derived class inherits all features of the base class."
   ]
  },
  {
   "cell_type": "code",
   "execution_count": 3,
   "id": "9d961edd-7d30-406c-9a27-7b273632826a",
   "metadata": {},
   "outputs": [
    {
     "name": "stdout",
     "output_type": "stream",
     "text": [
      "Father : Ram\n",
      "Mother : Sita\n"
     ]
    }
   ],
   "source": [
    "# Example of multiple inheritance:-\n",
    "\n",
    "#Base class1\n",
    "class Father:\n",
    "    fatherName = \"\"\n",
    "    def father(self) :\n",
    "        print(self.fatherName)\n",
    "\n",
    "#Base class2\n",
    "class Mother:\n",
    "    motherName = \"\"\n",
    "    def father(self) :\n",
    "        print(self.motherName)\n",
    "        \n",
    "# child or derived class\n",
    "class Child(Father, Mother) :\n",
    "    def parents(self):\n",
    "        print(\"Father :\", self.fatherName)\n",
    "        print(\"Mother :\", self.motherName)\n",
    "\n",
    "s = Child()\n",
    "s.fatherName = \"Ram\"\n",
    "s.motherName = \"Sita\"\n",
    "s.parents()"
   ]
  },
  {
   "cell_type": "markdown",
   "id": "d52970c9-a2c9-4e32-877c-e8160f0c881b",
   "metadata": {},
   "source": [
    "Q4. What are getter and setter in python? Create a class and create a getter and a setter method in this class.\n",
    "    \n",
    "    Getter: A method that allows us to access an attribute in a given class.\n",
    "    Setter: A method that allows us to set or mutate the value of an attribute in a class."
   ]
  },
  {
   "cell_type": "code",
   "execution_count": 4,
   "id": "bc74d662-f151-4207-b03b-016c4d01f0d9",
   "metadata": {},
   "outputs": [],
   "source": [
    "class Student:\n",
    "    \n",
    "    def __init__(self, name, phone):\n",
    "        self.name = name\n",
    "        self.phone = phone\n",
    "    \n",
    "    def set_name(self, name):\n",
    "        self.name = name\n",
    "        \n",
    "    def get_name(self):\n",
    "        return self.name\n",
    "\n",
    "s = Student(\"Ritika\", 12345)"
   ]
  },
  {
   "cell_type": "code",
   "execution_count": 5,
   "id": "8e882504-33ef-4cec-819e-641dd353df6d",
   "metadata": {},
   "outputs": [
    {
     "data": {
      "text/plain": [
       "'Ritika'"
      ]
     },
     "execution_count": 5,
     "metadata": {},
     "output_type": "execute_result"
    }
   ],
   "source": [
    "s.get_name()"
   ]
  },
  {
   "cell_type": "code",
   "execution_count": 6,
   "id": "644f9080-2fe8-4047-98c0-3d60bdb67ac9",
   "metadata": {},
   "outputs": [
    {
     "data": {
      "text/plain": [
       "'Ritika keshri'"
      ]
     },
     "execution_count": 6,
     "metadata": {},
     "output_type": "execute_result"
    }
   ],
   "source": [
    "s.set_name(\"Ritika keshri\")\n",
    "s.get_name()"
   ]
  },
  {
   "cell_type": "markdown",
   "id": "14da1d58-54c4-4cfd-bda1-1a4463904ae0",
   "metadata": {},
   "source": [
    "Q5.What is method overriding in python? Write a python code to demonstrate method overriding.\n",
    "\n",
    "    Method overriding is an ability of any object-oriented programming language that allows\n",
    "    a subclass or child class to provide a specific implementation of a method that is already\n",
    "    provided by one of its super-classes or parent classes. When a method in a subclass\n",
    "    has the same name, same parameters or signature and same return type(or sub-type) as \n",
    "    a method in its super-class, then the method in the subclass is said to override the\n",
    "    method in the super-class."
   ]
  },
  {
   "cell_type": "code",
   "execution_count": 7,
   "id": "9bb8c340-ec4a-4910-b01d-d12570548b17",
   "metadata": {},
   "outputs": [
    {
     "name": "stdout",
     "output_type": "stream",
     "text": [
      "Inside Parent\n",
      "Inside Child\n"
     ]
    }
   ],
   "source": [
    "# Example \n",
    "class Parent:\n",
    "    def __init__(self) :\n",
    "        self.value = \"Inside Parent\"\n",
    "        \n",
    "    def show(self):\n",
    "        print(self.value)\n",
    "        \n",
    "class Child(Parent):\n",
    "    def __init__(self):\n",
    "        self.value = \"Inside Child\"\n",
    "        \n",
    "    #override method \n",
    "    def show(self):\n",
    "        print(self.value)\n",
    "        \n",
    "p = Parent()\n",
    "c = Child()\n",
    "\n",
    "p.show()\n",
    "c.show()"
   ]
  },
  {
   "cell_type": "code",
   "execution_count": null,
   "id": "6f5b3998-da43-4f55-a335-da8919dfc8ec",
   "metadata": {},
   "outputs": [],
   "source": []
  }
 ],
 "metadata": {
  "kernelspec": {
   "display_name": "Python 3 (ipykernel)",
   "language": "python",
   "name": "python3"
  },
  "language_info": {
   "codemirror_mode": {
    "name": "ipython",
    "version": 3
   },
   "file_extension": ".py",
   "mimetype": "text/x-python",
   "name": "python",
   "nbconvert_exporter": "python",
   "pygments_lexer": "ipython3",
   "version": "3.10.8"
  }
 },
 "nbformat": 4,
 "nbformat_minor": 5
}
