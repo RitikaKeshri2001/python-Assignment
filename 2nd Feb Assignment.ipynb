{
 "cells": [
  {
   "cell_type": "markdown",
   "id": "a8c84e64-0ba3-4603-9582-cf55f333b76f",
   "metadata": {},
   "source": [
    "Q1. Explain with an example each when to use a for loop and a while loop.\n",
    "\n",
    "    A for loop is a control flow statement that executes code for a predefined number of \n",
    "    iterations. The keyword used in this statement is \"for\" . Used when number of \n",
    "    iterations is already known.\n",
    "    \n",
    "    While loop is a loop that runs a single statement or a set of statements for a given\n",
    "    true condition. The loop is represented by the keyword \"while\". While loop is used\n",
    "    when number of iteration is not known. The statement is repeated until the given \n",
    "    condition become false. Because the condition is tested at the beginning of the \n",
    "    while loop, it is also known as the pre-test loop."
   ]
  },
  {
   "cell_type": "code",
   "execution_count": 1,
   "id": "aeb89400-75b6-452d-923d-5a06eabdc1f2",
   "metadata": {},
   "outputs": [
    {
     "name": "stdout",
     "output_type": "stream",
     "text": [
      "1 2 3 45 5 "
     ]
    }
   ],
   "source": [
    "# Example of for loop :-\n",
    "l = [1,2,3,45,5]\n",
    "for i in l:\n",
    "    print(i, end=\" \")"
   ]
  },
  {
   "cell_type": "code",
   "execution_count": 2,
   "id": "71274de6-d744-4a01-ab23-2a8572fc5b3f",
   "metadata": {},
   "outputs": [
    {
     "name": "stdout",
     "output_type": "stream",
     "text": [
      "1 2 3 4 5 6 7 8 9 10 "
     ]
    }
   ],
   "source": [
    "# Example of while loop :-\n",
    "i = 1\n",
    "while i<=10:\n",
    "    print(i, end = \" \")\n",
    "    i += 1"
   ]
  },
  {
   "cell_type": "markdown",
   "id": "27fd610b-ff66-4b97-b198-efb6a58f074e",
   "metadata": {},
   "source": [
    "Q2. Write a python program to print the sum and product of the first 10 natural numbers \n",
    "    using for and while loop."
   ]
  },
  {
   "cell_type": "code",
   "execution_count": 3,
   "id": "f62ee915-7949-4f58-a6ba-7f4961fc3218",
   "metadata": {},
   "outputs": [
    {
     "name": "stdout",
     "output_type": "stream",
     "text": [
      "Sum of first 10 natural number is:-  55\n",
      "Sum of first 10 natural number is:-  55\n"
     ]
    }
   ],
   "source": [
    "# sum of first 10 natural number\n",
    "\n",
    "#using while loop\n",
    "i = 1\n",
    "s1 = 0\n",
    "while i<=10:\n",
    "    s1 += i\n",
    "    i += 1\n",
    "print(\"Sum of first 10 natural number is:- \", s1)\n",
    "\n",
    "#using for loop\n",
    "s2 = 0\n",
    "for j in range(1, 11):\n",
    "    s2 += j\n",
    "print(\"Sum of first 10 natural number is:- \", s2)"
   ]
  },
  {
   "cell_type": "code",
   "execution_count": 4,
   "id": "bba8ab8c-5d41-48c7-bff8-51247c105ae7",
   "metadata": {},
   "outputs": [
    {
     "name": "stdout",
     "output_type": "stream",
     "text": [
      "Product of first 10 natural number:-  3628800\n",
      "Product of first 10 natural number:-  3628800\n"
     ]
    }
   ],
   "source": [
    "# Product of first 10 natural number\n",
    "\n",
    "# using while loop\n",
    "i = 1\n",
    "mul1 = 1\n",
    "while i<=10:\n",
    "    mul1 = mul1 * i\n",
    "    i += 1\n",
    "print(\"Product of first 10 natural number:- \", mul1)\n",
    "\n",
    "# using for loop\n",
    "mul2 = 1\n",
    "for j in range(1, 11):\n",
    "    mul2 = mul2*j\n",
    "print(\"Product of first 10 natural number:- \", mul2)"
   ]
  },
  {
   "cell_type": "markdown",
   "id": "97c23111-34e0-432a-bffe-bb19e47a64f4",
   "metadata": {},
   "source": [
    "Q3. Create a python program to compute the electricity bill for a household.\n",
    "The per-unit charges in rupees are as follows: For the first 100 units, the user will be charged Rs. 4.5 per\n",
    "unit, for the next 100 units, the user will be charged Rs. 6 per unit, and for the next 100 units, the user will\n",
    "be charged Rs. 10 per unit, After 300 units and above the user will be charged Rs. 20 per unit.\n",
    "You are required to take the units of electricity consumed in a month from the user as input.\n",
    "Your program must pass this test case: when the unit of electricity consumed by the user in a month is\n",
    "310, the total electricity bill should be 2250."
   ]
  },
  {
   "cell_type": "code",
   "execution_count": 5,
   "id": "1f454c7a-ef4e-4db5-ad26-fb0acabdee14",
   "metadata": {},
   "outputs": [
    {
     "name": "stdout",
     "output_type": "stream",
     "text": [
      "Electricity bill:-  2250.0\n"
     ]
    }
   ],
   "source": [
    "# units = int(input(\"Enter the unit of electricity to calculate bill\"))\n",
    "units = 310\n",
    "bill = 0\n",
    "if units <= 100:\n",
    "    bill = units * 4.5\n",
    "elif units <= 200:\n",
    "    bill = (100*4.5) + ((units-100) * 6) \n",
    "elif units <= 300:\n",
    "    bill = (100*4.5) + (100*6) + ((units-200) * 10) \n",
    "else :\n",
    "    bill = (100*4.5) + (100*6) + (100*10) + ((units-300) * 20)\n",
    "    \n",
    "print(\"Electricity bill:- \", bill)"
   ]
  },
  {
   "cell_type": "markdown",
   "id": "f60e4087-861e-45c6-a875-5fa8e49a0390",
   "metadata": {},
   "source": [
    "Q4. Create a list of numbers from 1 to 100. Use for loop and while loop to calculate the cube of each\n",
    "number and if the cube of that number is divisible by 4 or 5 then append that number in a list and print\n",
    "that list."
   ]
  },
  {
   "cell_type": "code",
   "execution_count": 6,
   "id": "531c84f7-420c-4317-8117-ae8516fa34c9",
   "metadata": {},
   "outputs": [
    {
     "name": "stdout",
     "output_type": "stream",
     "text": [
      "[8, 64, 125, 216, 512, 1000, 1728, 2744, 3375, 4096, 5832, 8000, 10648, 13824, 15625, 17576, 21952, 27000, 32768, 39304, 42875, 46656, 54872, 64000, 74088, 85184, 91125, 97336, 110592, 125000, 140608, 157464, 166375, 175616, 195112, 216000, 238328, 262144, 274625, 287496, 314432, 343000, 373248, 405224, 421875, 438976, 474552, 512000, 551368, 592704, 614125, 636056, 681472, 729000, 778688, 830584, 857375, 884736, 941192, 1000000]\n"
     ]
    }
   ],
   "source": [
    "l = []\n",
    "\n",
    "# using for loop \n",
    "for i in range(1, 101):\n",
    "    i = i**3\n",
    "    if i%4 == 0 or i%5 == 0:\n",
    "        l.append(i)\n",
    "        \n",
    "print(l)"
   ]
  },
  {
   "cell_type": "code",
   "execution_count": 7,
   "id": "b717d322-3844-4608-a1be-2dca008ec014",
   "metadata": {},
   "outputs": [
    {
     "name": "stdout",
     "output_type": "stream",
     "text": [
      "[8, 64, 125, 216, 512, 1000, 1728, 2744, 3375, 4096, 5832, 8000, 10648, 13824, 15625, 17576, 21952, 27000, 32768, 39304, 42875, 46656, 54872, 64000, 74088, 85184, 91125, 97336, 110592, 125000, 140608, 157464, 166375, 175616, 195112, 216000, 238328, 262144, 274625, 287496, 314432, 343000, 373248, 405224, 421875, 438976, 474552, 512000, 551368, 592704, 614125, 636056, 681472, 729000, 778688, 830584, 857375, 884736, 941192, 1000000]\n"
     ]
    }
   ],
   "source": [
    "# using while loop\n",
    "l = []\n",
    "i = 1\n",
    "while i <= 100:\n",
    "    a = i**3\n",
    "    if a%4 == 0 or a%5 == 0:\n",
    "        l.append(a)\n",
    "    i += 1\n",
    "print(l)"
   ]
  },
  {
   "cell_type": "markdown",
   "id": "3a7795f2-40cc-4f34-9f6e-7e8a4fcb5e79",
   "metadata": {},
   "source": [
    "Q5. Write a program to filter count vowels in the below-given string.\n",
    "string = \"I want to become a data scientist\""
   ]
  },
  {
   "cell_type": "code",
   "execution_count": 8,
   "id": "1925a85b-7510-4eed-bd48-faf6119df23e",
   "metadata": {},
   "outputs": [
    {
     "name": "stdout",
     "output_type": "stream",
     "text": [
      "Number of vowel is:  12\n"
     ]
    }
   ],
   "source": [
    "count = 0\n",
    "s = \"I want to become a data scientist\"\n",
    "st = s.lower()\n",
    "for i in range(0, len(s)):\n",
    "    if st[i] == 'a' or st[i] == 'e' or st[i] == 'i' or st[i] == 'o' or st[i] == 'u' :\n",
    "        count += 1\n",
    "        \n",
    "print(\"Number of vowel is: \", count)"
   ]
  },
  {
   "cell_type": "code",
   "execution_count": null,
   "id": "96ae05fa-0b46-46e4-b561-8ae0ae84d06a",
   "metadata": {},
   "outputs": [],
   "source": []
  }
 ],
 "metadata": {
  "kernelspec": {
   "display_name": "Python 3 (ipykernel)",
   "language": "python",
   "name": "python3"
  },
  "language_info": {
   "codemirror_mode": {
    "name": "ipython",
    "version": 3
   },
   "file_extension": ".py",
   "mimetype": "text/x-python",
   "name": "python",
   "nbconvert_exporter": "python",
   "pygments_lexer": "ipython3",
   "version": "3.10.8"
  }
 },
 "nbformat": 4,
 "nbformat_minor": 5
}
