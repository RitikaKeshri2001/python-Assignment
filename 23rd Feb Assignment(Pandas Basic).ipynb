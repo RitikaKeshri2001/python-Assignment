{
 "cells": [
  {
   "cell_type": "markdown",
   "id": "aa425385-b1bc-4d43-914d-d90afee3e529",
   "metadata": {},
   "source": [
    "Q1. Create a Pandas Series that contains the following data: 4, 8, 15, 16, 23, and 42. Then, print the series."
   ]
  },
  {
   "cell_type": "code",
   "execution_count": 1,
   "id": "2eeb7eff-4e85-4c64-97ba-ffb8857c24d9",
   "metadata": {},
   "outputs": [
    {
     "data": {
      "text/plain": [
       "0     4\n",
       "1     8\n",
       "2    15\n",
       "3    16\n",
       "4    23\n",
       "5    42\n",
       "dtype: int64"
      ]
     },
     "execution_count": 1,
     "metadata": {},
     "output_type": "execute_result"
    }
   ],
   "source": [
    "import pandas as pd\n",
    "\n",
    "l = [4, 8, 15, 16, 23, 42]\n",
    "pd.Series(l)"
   ]
  },
  {
   "cell_type": "markdown",
   "id": "a6478513-657f-4296-b9cc-c71ef47af243",
   "metadata": {},
   "source": [
    "Q2. Create a variable of list type containing 10 elements in it, and apply pandas.Series function on the\n",
    "variable print it."
   ]
  },
  {
   "cell_type": "code",
   "execution_count": 2,
   "id": "dddab57b-72e5-4ea1-9376-8ff47cddf52f",
   "metadata": {},
   "outputs": [
    {
     "data": {
      "text/plain": [
       "0     1\n",
       "1     2\n",
       "2     3\n",
       "3     4\n",
       "4     5\n",
       "5     6\n",
       "6     7\n",
       "7     8\n",
       "8     9\n",
       "9    10\n",
       "dtype: int64"
      ]
     },
     "execution_count": 2,
     "metadata": {},
     "output_type": "execute_result"
    }
   ],
   "source": [
    "data = list(range(1, 11))\n",
    "pd.Series(data)"
   ]
  },
  {
   "cell_type": "markdown",
   "id": "edde495b-d9fa-46a5-ab1a-3fd248296085",
   "metadata": {},
   "source": [
    "Q3. Create a Pandas DataFrame that contains the following data:\n",
    "\n",
    "    Name      Age      Gender\n",
    "    Alice     25       Female\n",
    "    Bob       30       Male\n",
    "    Claire    27       Female"
   ]
  },
  {
   "cell_type": "code",
   "execution_count": 3,
   "id": "081d1374-8b3d-420b-a020-dd5a3d8a466b",
   "metadata": {},
   "outputs": [
    {
     "data": {
      "text/html": [
       "<div>\n",
       "<style scoped>\n",
       "    .dataframe tbody tr th:only-of-type {\n",
       "        vertical-align: middle;\n",
       "    }\n",
       "\n",
       "    .dataframe tbody tr th {\n",
       "        vertical-align: top;\n",
       "    }\n",
       "\n",
       "    .dataframe thead th {\n",
       "        text-align: right;\n",
       "    }\n",
       "</style>\n",
       "<table border=\"1\" class=\"dataframe\">\n",
       "  <thead>\n",
       "    <tr style=\"text-align: right;\">\n",
       "      <th></th>\n",
       "      <th>Name</th>\n",
       "      <th>Age</th>\n",
       "      <th>Gender</th>\n",
       "    </tr>\n",
       "  </thead>\n",
       "  <tbody>\n",
       "    <tr>\n",
       "      <th>0</th>\n",
       "      <td>Alice</td>\n",
       "      <td>25</td>\n",
       "      <td>Female</td>\n",
       "    </tr>\n",
       "    <tr>\n",
       "      <th>1</th>\n",
       "      <td>Bob</td>\n",
       "      <td>30</td>\n",
       "      <td>Male</td>\n",
       "    </tr>\n",
       "    <tr>\n",
       "      <th>2</th>\n",
       "      <td>Claire</td>\n",
       "      <td>27</td>\n",
       "      <td>Female</td>\n",
       "    </tr>\n",
       "  </tbody>\n",
       "</table>\n",
       "</div>"
      ],
      "text/plain": [
       "     Name  Age  Gender\n",
       "0   Alice   25  Female\n",
       "1     Bob   30    Male\n",
       "2  Claire   27  Female"
      ]
     },
     "execution_count": 3,
     "metadata": {},
     "output_type": "execute_result"
    }
   ],
   "source": [
    "data = {\n",
    "    'Name':['Alice', 'Bob', 'Claire'],\n",
    "    'Age':[25, 30, 27],\n",
    "    'Gender':['Female', 'Male', 'Female']\n",
    "}\n",
    "\n",
    "pd.DataFrame(data)"
   ]
  },
  {
   "cell_type": "markdown",
   "id": "7d308b38-6831-4a1f-b55f-13fef180cef8",
   "metadata": {},
   "source": [
    "Q4. What is ‘DataFrame’ in pandas and how is it different from pandas.series? Explain with an example.\n",
    "\n",
    "    DataFrame : Pandas DataFrame is a two-dimensional size-mutable, potentially heterogeneous tabular\n",
    "        data structure with labeled axes (rows and columns). A Data frame is a two-dimensional data \n",
    "        structure,i.e., data is aligned in a tabular fashion in rows and columns. Pandas DataFrame\n",
    "        consists of three principal components, the data, rows, and columns.\n",
    "        \n",
    "    DataFrame is combination of multiple columns and rows. Series is either a row or a column."
   ]
  },
  {
   "cell_type": "code",
   "execution_count": 4,
   "id": "4be33ba9-af30-43fd-b793-cdec59f872c2",
   "metadata": {},
   "outputs": [
    {
     "data": {
      "text/plain": [
       "pandas.core.frame.DataFrame"
      ]
     },
     "execution_count": 4,
     "metadata": {},
     "output_type": "execute_result"
    }
   ],
   "source": [
    "data = {\n",
    "    'Name':['Alice', 'Bob', 'Claire'],\n",
    "    'Age':[25, 30, 27],\n",
    "    'Gender':['Female', 'Male', 'Female']\n",
    "}\n",
    "\n",
    "df = pd.DataFrame(data)\n",
    "# DataFrame contains multiple rows and columns \n",
    "# Here df is DataFrame because it contains 3 rows and 2 columns\n",
    "# if we check the data type of df it show DataFrame\n",
    "type(df)"
   ]
  },
  {
   "cell_type": "code",
   "execution_count": 5,
   "id": "fec18901-3fac-4c9a-abe0-ebca0143b030",
   "metadata": {},
   "outputs": [
    {
     "data": {
      "text/plain": [
       "pandas.core.series.Series"
      ]
     },
     "execution_count": 5,
     "metadata": {},
     "output_type": "execute_result"
    }
   ],
   "source": [
    "# series is either a row or a column\n",
    "df1 = df['Name']\n",
    "# df1 is a series because it contains only one column\n",
    "# if we check the data type of df1, it show Series\n",
    "type(df1)"
   ]
  },
  {
   "cell_type": "markdown",
   "id": "27ac3c43-d95e-4a30-9bcf-675798cb3a48",
   "metadata": {},
   "source": [
    "Q5. What are some common functions you can use to manipulate data in a Pandas DataFrame? Can\n",
    "you give an example of when you might use one of these functions?\n",
    "\n",
    "    Some common functions to manipulate data are:\n",
    "    1. read_csv or read_excel : This function is used to read a CSV or an excel file to pandas\n",
    "        DataFrame format. \n",
    "        df = pd.read_csv(\"File_name.csv\")\n",
    "    2. head : This function is used to display number of 1st five rows by default. We can also \n",
    "        give argument (n) i.e, number of rows to be displayed.\n",
    "        df.head() or df.head(n)\n",
    "    3. shape : This function is used to count the rows and columns in DataFrame. It returns the \n",
    "        no. of rows and columns enclosed in a tuple.\n",
    "        df.shape\n",
    "    4. describe : This function is used to know the summary of Statistics of DataFrame.\n",
    "        df.describe()\n",
    "    5. dropna : This function is used to dropping the missing values in DataFrame, it removes\n",
    "        al the NaN values in the dataframe.\n",
    "        df.dropna() or df.dropna(axis=1) this will drop all the columns with any missing values.\n",
    "    6. merge : This function is used to merging DataFrames , arguments passed are the dataframes \n",
    "        to be merged along with the column name.\n",
    "        pd.merge(df, df1, on = 'Name') , where df and df1 are two dataframes and Name is the column name.\n",
    "    7. rename : This function is used to rename the columns of dataframe, arguments passed are the \n",
    "        columns to be renamed and inplace.\n",
    "        df.rename(columns={'Name': 'CountryName'}, inplace=False)\n",
    "        column 'Name' rename with 'CountryName' The code ‘inplace = False’ means the result would be\n",
    "        stored in a new DataFrame instead of the original one.\n",
    "    8. sort_values : This function is used for sorting the DataFrame.\n",
    "        df.sort_values(by=['Age'], ascending=True) where Age is column name\n",
    "    9. For indexing and slicing: .loc is label base and .iloc is integer position based methods\n",
    "        using for slicing and indexing of data.\n"
   ]
  },
  {
   "cell_type": "code",
   "execution_count": 6,
   "id": "470ad025-3bd2-4a31-a0f9-12fccdfba3c6",
   "metadata": {},
   "outputs": [
    {
     "data": {
      "text/html": [
       "<div>\n",
       "<style scoped>\n",
       "    .dataframe tbody tr th:only-of-type {\n",
       "        vertical-align: middle;\n",
       "    }\n",
       "\n",
       "    .dataframe tbody tr th {\n",
       "        vertical-align: top;\n",
       "    }\n",
       "\n",
       "    .dataframe thead th {\n",
       "        text-align: right;\n",
       "    }\n",
       "</style>\n",
       "<table border=\"1\" class=\"dataframe\">\n",
       "  <thead>\n",
       "    <tr style=\"text-align: right;\">\n",
       "      <th></th>\n",
       "      <th>Name</th>\n",
       "      <th>Age</th>\n",
       "      <th>Gender</th>\n",
       "    </tr>\n",
       "  </thead>\n",
       "  <tbody>\n",
       "    <tr>\n",
       "      <th>0</th>\n",
       "      <td>Alice</td>\n",
       "      <td>25</td>\n",
       "      <td>Female</td>\n",
       "    </tr>\n",
       "    <tr>\n",
       "      <th>1</th>\n",
       "      <td>Bob</td>\n",
       "      <td>30</td>\n",
       "      <td>Male</td>\n",
       "    </tr>\n",
       "  </tbody>\n",
       "</table>\n",
       "</div>"
      ],
      "text/plain": [
       "    Name  Age  Gender\n",
       "0  Alice   25  Female\n",
       "1    Bob   30    Male"
      ]
     },
     "execution_count": 6,
     "metadata": {},
     "output_type": "execute_result"
    }
   ],
   "source": [
    "# we can use head function to read dataframe from start\n",
    "data = {\n",
    "    'Name':['Alice', 'Bob', 'Claire'],\n",
    "    'Age':[25, 30, 27],\n",
    "    'Gender':['Female', 'Male', 'Female']\n",
    "}\n",
    "df = pd.DataFrame(data)\n",
    "df.head(2)"
   ]
  },
  {
   "cell_type": "code",
   "execution_count": 7,
   "id": "9a8aea7a-c689-4f5d-b9be-1026dea756f4",
   "metadata": {},
   "outputs": [
    {
     "data": {
      "text/plain": [
       "(3, 3)"
      ]
     },
     "execution_count": 7,
     "metadata": {},
     "output_type": "execute_result"
    }
   ],
   "source": [
    "# shape function , we can use shape function to find number of row and column present in dataframe\n",
    "df.shape"
   ]
  },
  {
   "cell_type": "code",
   "execution_count": 8,
   "id": "70449602-529f-40c5-86be-0affa8517c19",
   "metadata": {},
   "outputs": [
    {
     "data": {
      "text/html": [
       "<div>\n",
       "<style scoped>\n",
       "    .dataframe tbody tr th:only-of-type {\n",
       "        vertical-align: middle;\n",
       "    }\n",
       "\n",
       "    .dataframe tbody tr th {\n",
       "        vertical-align: top;\n",
       "    }\n",
       "\n",
       "    .dataframe thead th {\n",
       "        text-align: right;\n",
       "    }\n",
       "</style>\n",
       "<table border=\"1\" class=\"dataframe\">\n",
       "  <thead>\n",
       "    <tr style=\"text-align: right;\">\n",
       "      <th></th>\n",
       "      <th>name</th>\n",
       "      <th>Age</th>\n",
       "      <th>Gender</th>\n",
       "    </tr>\n",
       "  </thead>\n",
       "  <tbody>\n",
       "    <tr>\n",
       "      <th>0</th>\n",
       "      <td>Alice</td>\n",
       "      <td>25</td>\n",
       "      <td>Female</td>\n",
       "    </tr>\n",
       "    <tr>\n",
       "      <th>1</th>\n",
       "      <td>Bob</td>\n",
       "      <td>30</td>\n",
       "      <td>Male</td>\n",
       "    </tr>\n",
       "    <tr>\n",
       "      <th>2</th>\n",
       "      <td>Claire</td>\n",
       "      <td>27</td>\n",
       "      <td>Female</td>\n",
       "    </tr>\n",
       "  </tbody>\n",
       "</table>\n",
       "</div>"
      ],
      "text/plain": [
       "     name  Age  Gender\n",
       "0   Alice   25  Female\n",
       "1     Bob   30    Male\n",
       "2  Claire   27  Female"
      ]
     },
     "execution_count": 8,
     "metadata": {},
     "output_type": "execute_result"
    }
   ],
   "source": [
    "# we can rename column name\n",
    "df.rename(columns={'Name': 'name'}, inplace=False)"
   ]
  },
  {
   "cell_type": "markdown",
   "id": "0e63d997-47f5-43c9-8139-8c2c7fbcd1c1",
   "metadata": {},
   "source": [
    "Q6. Which of the following is mutable in nature Series, DataFrame, Panel?\n",
    "\n",
    "    Series, DataFrame and Panel are data structures of pandas. All data structure of pandas\n",
    "    are value mutable (the value they contain can be altered) but not always size-mutable. \n",
    "    The length of Series cannot be changed, but, for example, columns can be inserted into\n",
    "    a DataFrame."
   ]
  },
  {
   "cell_type": "markdown",
   "id": "59530936-75cb-4fd5-859c-1a2482e497ff",
   "metadata": {},
   "source": [
    "Q7. Create a DataFrame using multiple Series. Explain with an example.\n",
    "\n",
    "    Suppose we have three series name, age and gender. We have to make DataFrame from these \n",
    "    series. We can use pd.DataFrame() method in which we pass a dictionary which contain \n",
    "    key-value pair(key is the name of the column and value is the series). We can also use\n",
    "    concat() method which takes parameter a list of series and axis = 1(to specify merge \n",
    "    series as columns instead of rows)."
   ]
  },
  {
   "cell_type": "code",
   "execution_count": 9,
   "id": "2136c8dc-d3e9-4656-81f1-744fcf9435f0",
   "metadata": {},
   "outputs": [
    {
     "data": {
      "text/html": [
       "<div>\n",
       "<style scoped>\n",
       "    .dataframe tbody tr th:only-of-type {\n",
       "        vertical-align: middle;\n",
       "    }\n",
       "\n",
       "    .dataframe tbody tr th {\n",
       "        vertical-align: top;\n",
       "    }\n",
       "\n",
       "    .dataframe thead th {\n",
       "        text-align: right;\n",
       "    }\n",
       "</style>\n",
       "<table border=\"1\" class=\"dataframe\">\n",
       "  <thead>\n",
       "    <tr style=\"text-align: right;\">\n",
       "      <th></th>\n",
       "      <th>Name</th>\n",
       "      <th>Age</th>\n",
       "      <th>Gender</th>\n",
       "    </tr>\n",
       "  </thead>\n",
       "  <tbody>\n",
       "    <tr>\n",
       "      <th>0</th>\n",
       "      <td>Alice</td>\n",
       "      <td>25</td>\n",
       "      <td>Female</td>\n",
       "    </tr>\n",
       "    <tr>\n",
       "      <th>1</th>\n",
       "      <td>Bob</td>\n",
       "      <td>30</td>\n",
       "      <td>Male</td>\n",
       "    </tr>\n",
       "    <tr>\n",
       "      <th>2</th>\n",
       "      <td>Claire</td>\n",
       "      <td>27</td>\n",
       "      <td>Female</td>\n",
       "    </tr>\n",
       "  </tbody>\n",
       "</table>\n",
       "</div>"
      ],
      "text/plain": [
       "     Name  Age  Gender\n",
       "0   Alice   25  Female\n",
       "1     Bob   30    Male\n",
       "2  Claire   27  Female"
      ]
     },
     "execution_count": 9,
     "metadata": {},
     "output_type": "execute_result"
    }
   ],
   "source": [
    "import pandas as pd\n",
    "\n",
    "name = pd.Series(['Alice', 'Bob', 'Claire'])\n",
    "age = pd.Series([25, 30, 27])\n",
    "gender = pd.Series(['Female', 'Male', 'Female'])\n",
    "pd.DataFrame({'Name':name, 'Age':age, 'Gender':gender})\n",
    "\n",
    "# we can also use concat() method \n",
    "# pd.concat([name, age, gender], axis = 1)"
   ]
  },
  {
   "cell_type": "code",
   "execution_count": null,
   "id": "42785caa-a994-4e98-b62a-511d9c468c6a",
   "metadata": {},
   "outputs": [],
   "source": []
  }
 ],
 "metadata": {
  "kernelspec": {
   "display_name": "Python 3 (ipykernel)",
   "language": "python",
   "name": "python3"
  },
  "language_info": {
   "codemirror_mode": {
    "name": "ipython",
    "version": 3
   },
   "file_extension": ".py",
   "mimetype": "text/x-python",
   "name": "python",
   "nbconvert_exporter": "python",
   "pygments_lexer": "ipython3",
   "version": "3.10.8"
  }
 },
 "nbformat": 4,
 "nbformat_minor": 5
}
